{
 "cells": [
  {
   "cell_type": "markdown",
   "id": "a7b1129d-2881-4176-82f2-32ea2f523d53",
   "metadata": {},
   "source": [
    "## Import Required Libraries\n"
   ]
  },
  {
   "cell_type": "code",
   "execution_count": 1,
   "id": "e9d4b7d3-bee2-456b-83dd-9eb7b1c131ca",
   "metadata": {},
   "outputs": [],
   "source": [
    "import numpy as np\n",
    "import pandas as pd\n",
    "import matplotlib.pyplot as plt\n",
    "import seaborn as sns\n",
    "import geopandas as gpd\n",
    "import os\n",
    "from glob import glob\n",
    "import pylandstats as pls\n",
    "import warnings\n",
    "import rasterio as rio\n",
    "from rasterio.warp import calculate_default_transform, reproject, Resampling\n",
    "import rioxarray\n",
    "\n",
    "# Suppress warnings to keep output clean\n",
    "warnings.filterwarnings('ignore')"
   ]
  },
  {
   "cell_type": "markdown",
   "id": "dfbd16d7-39e3-451c-a1d2-d7018b3b11e3",
   "metadata": {},
   "source": [
    "## Define File and Directory Paths"
   ]
  },
  {
   "cell_type": "code",
   "execution_count": 2,
   "id": "2cbddf19-cbef-4c4a-8501-01414d91d153",
   "metadata": {},
   "outputs": [],
   "source": [
    "# Main directory containing raw raster and vector datasets\n",
    "MAIN_DATA_DIR = '/beegfs/halder/jupyter_playgroundnoconda_p3.12_1/jupyter_work/project/DATA'\n",
    "\n",
    "# GitHub-linked project directory where processed data and results are stored\n",
    "PROJECT_DATA_DIR = '/beegfs/halder/jupyter_playgroundnoconda_p3.12_1/jupyter_work/project/GITHUB/Landscape-Analysis/data'\n",
    "\n",
    "# Temporary directory used for storing intermediate files\n",
    "TEMP_DIR = os.path.join(PROJECT_DATA_DIR, 'TEMP')"
   ]
  },
  {
   "cell_type": "markdown",
   "id": "dc135c31-04c8-462c-99e3-05841cf5aa27",
   "metadata": {},
   "source": [
    "## Load Hexagonal Grid (5 km² resolution) for Germany"
   ]
  },
  {
   "cell_type": "code",
   "execution_count": 3,
   "id": "092338b5-f005-447d-a900-a8a940013172",
   "metadata": {},
   "outputs": [
    {
     "name": "stdout",
     "output_type": "stream",
     "text": [
      "Successfully read the grids!\n"
     ]
    }
   ],
   "source": [
    "EPSG = 25832  # Use ETRS89 / UTM Zone 32N as the projection (suitable for Germany)\n",
    "\n",
    "# Path to grid shapefile\n",
    "GRID_PATH = os.path.join(PROJECT_DATA_DIR, 'VECTOR', f'DE_Hexbins_10sqkm_EPSG_{EPSG}.shp')\n",
    "\n",
    "# Load grid as a GeoDataFrame and retain relevant columns\n",
    "grids_gdf = gpd.read_file(GRID_PATH)\n",
    "grids_gdf = grids_gdf[['id', 'geometry']]\n",
    "grids_gdf['id'] = grids_gdf['id'].astype(int)\n",
    "\n",
    "print('Successfully read the grids!')"
   ]
  },
  {
   "cell_type": "markdown",
   "id": "ce36da52-12c1-4618-8747-a5d1b07e846a",
   "metadata": {},
   "source": [
    "## Compute Landscape Metrics Using PyLandStats\n"
   ]
  },
  {
   "cell_type": "code",
   "execution_count": 1,
   "id": "e0b0f335-a2ca-4dd3-a09d-b8a486341531",
   "metadata": {},
   "outputs": [],
   "source": [
    "out_dir = os.path.join(PROJECT_DATA_DIR, 'OUTPUT', 'Landscape_Metrics')\n",
    "os.makedirs(out_dir, exist_ok=True)\n",
    "\n",
    "# Path to ESA WorldCover LULC raster (10 m resolution, 2021)\n",
    "lulc_file_path = os.path.join(MAIN_DATA_DIR, 'ESA_WORLDCOVER_10M_2021_V200', 'ESA_WorldCover_2021_DE_WGS84.tif')\n",
    "reprojected_raster_path = os.path.join(TEMP_DIR, f'ESA_WorldCover_2021_DE_EPSG_{EPSG}.tif')\n",
    "\n",
    "# Target CRS (Coordinate Reference System)\n",
    "dst_crs = f'EPSG:{EPSG}'\n",
    "\n",
    "# Open source raster\n",
    "with rio.open(lulc_file_path) as src:\n",
    "    transform, width, height = calculate_default_transform(\n",
    "        src.crs, dst_crs, src.width, src.height, *src.bounds)\n",
    "    \n",
    "    kwargs = src.meta.copy()\n",
    "    kwargs.update({\n",
    "        'crs': dst_crs,\n",
    "        'transform': transform,\n",
    "        'width': width,\n",
    "        'height': height\n",
    "    })\n",
    "\n",
    "    # Write reprojected raster\n",
    "    with rio.open(reprojected_raster_path, 'w', **kwargs) as dst:\n",
    "        for i in range(1, src.count + 1):\n",
    "            reproject(\n",
    "                source=rio.band(src, i),\n",
    "                destination=rio.band(dst, i),\n",
    "                src_transform=src.transform,\n",
    "                src_crs=src.crs,\n",
    "                dst_transform=transform,\n",
    "                dst_crs=dst_crs,\n",
    "                resampling=Resampling.nearest\n",
    "            )\n",
    "            \n",
    "print('Raster Saved Successfully!')\n",
    "\n",
    "# Create ZonalAnalysis object for computing landscape metrics per grid zone\n",
    "za = pls.ZonalAnalysis(\n",
    "    reprojected_raster_path,  # Use the reprojected raster\n",
    "    zones=grids_gdf,\n",
    "    zone_index='id',\n",
    "    neighborhood_rule=8       # 8-neighbor connectivity for landscape pattern analysis\n",
    ")\n",
    "\n",
    "# Compute class-level metrics (per land cover class) for each zone\n",
    "class_metrics_df = za.compute_class_metrics_df().reset_index()\n",
    "class_metrics_df.to_csv(os.path.join(out_dir, 'class_metrics.csv'), index=False)\n",
    "\n",
    "# Compute landscape-level metrics (overall structure) for each zone\n",
    "landscape_metrics_df = za.compute_landscape_metrics_df().reset_index()\n",
    "landscape_metrics_df.to_csv(os.path.join(out_dir, 'landscape_metrics.csv'), index=False)\n",
    "\n",
    "print('Landscape metrics computation complete!')"
   ]
  }
 ],
 "metadata": {
  "kernelspec": {
   "display_name": "PyTorch CUDA 12.1",
   "language": "python",
   "name": "pytorchcu121"
  },
  "language_info": {
   "codemirror_mode": {
    "name": "ipython",
    "version": 3
   },
   "file_extension": ".py",
   "mimetype": "text/x-python",
   "name": "python",
   "nbconvert_exporter": "python",
   "pygments_lexer": "ipython3",
   "version": "3.12.3"
  }
 },
 "nbformat": 4,
 "nbformat_minor": 5
}
