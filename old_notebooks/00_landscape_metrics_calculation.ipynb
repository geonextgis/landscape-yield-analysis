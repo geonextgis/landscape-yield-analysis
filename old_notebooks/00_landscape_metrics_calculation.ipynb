{
 "cells": [
  {
   "cell_type": "markdown",
   "id": "c8ae8877-2567-450f-a0de-08d68fd0e5bb",
   "metadata": {},
   "source": [
    "# **Landscape Metrics Calculation**"
   ]
  },
  {
   "cell_type": "markdown",
   "id": "eb1ee581",
   "metadata": {},
   "source": [
    "## **Import Dependencies**"
   ]
  },
  {
   "cell_type": "code",
   "execution_count": 2,
   "id": "b8d872f4",
   "metadata": {},
   "outputs": [],
   "source": [
    "import numpy as np\n",
    "import pandas as pd\n",
    "import matplotlib.pyplot as plt\n",
    "import seaborn as sns\n",
    "import geopandas as gpd\n",
    "import rasterio as rio\n",
    "from rasterio.merge import merge\n",
    "import rioxarray\n",
    "import os\n",
    "from glob import glob\n",
    "from tqdm.auto import tqdm\n",
    "from landscape_window import calculate_shdi_for_grids\n",
    "import pylandstats as pls\n",
    "import zipfile\n",
    "\n",
    "import warnings\n",
    "warnings.filterwarnings('ignore')\n",
    "\n",
    "plt.rcParams['font.family'] = 'DeJavu Serif'\n",
    "plt.rcParams['font.serif'] = 'Times New Roman'\n",
    "\n",
    "data_dir = r'/beegfs/halder/jupyter_playgroundnoconda_p3.12_1/jupyter_work/project/DATA'\n",
    "out_dir = r'/beegfs/halder/jupyter_playgroundnoconda_p3.12_1/jupyter_work/project/GITHUB/Landscape-Analysis/data'"
   ]
  },
  {
   "cell_type": "markdown",
   "id": "dfaffcbf-a458-4943-9cd5-4222323eee26",
   "metadata": {},
   "source": [
    "## **Process LULC Data**"
   ]
  },
  {
   "cell_type": "markdown",
   "id": "cb5f0b16",
   "metadata": {},
   "source": [
    "### **Merge LULC Patches**"
   ]
  },
  {
   "cell_type": "code",
   "execution_count": 3,
   "id": "9696bcf4",
   "metadata": {},
   "outputs": [
    {
     "name": "stdout",
     "output_type": "stream",
     "text": [
      "Number of file paths: 19\n"
     ]
    }
   ],
   "source": [
    "# Store all the file paths\n",
    "file_paths = glob(os.path.join(data_dir, 'ESA_WORLDCOVER_10M_2021_V200', 'MAP', '*', '*Map.tif'))\n",
    "print(f'Number of file paths: {len(file_paths)}')\n",
    "\n",
    "# Open all the ratser data\n",
    "src_file_to_mosaic = [rio.open(fp) for fp in file_paths]\n",
    "\n",
    "# Merge the rasters\n",
    "mosaic, out_trans = merge(src_file_to_mosaic)\n",
    "\n",
    "# Close all the input files\n",
    "for src in src_file_to_mosaic:\n",
    "    src.close()"
   ]
  },
  {
   "cell_type": "markdown",
   "id": "0677358e-1c36-4f56-af7b-8ee61be55538",
   "metadata": {},
   "source": [
    "### **Save the Merged LULC**"
   ]
  },
  {
   "cell_type": "code",
   "execution_count": 7,
   "id": "cd3b4fdc-b2c0-4e4f-99f1-80450289e8d1",
   "metadata": {},
   "outputs": [
    {
     "name": "stdout",
     "output_type": "stream",
     "text": [
      "Output saved to: /beegfs/halder/jupyter_playgroundnoconda_p3.12_1/jupyter_work/project/GITHUB/Landscape-Analysis/data/ESA_WorldCover_2021_DE_WGS84.tif\n"
     ]
    }
   ],
   "source": [
    "# Prepare metadata\n",
    "meta = src.meta.copy()\n",
    "meta.update({\n",
    "    \"driver\": \"GTiff\",\n",
    "    \"height\": mosaic.shape[1],\n",
    "    \"width\": mosaic.shape[2],\n",
    "    \"transform\": out_trans,\n",
    "    \"count\": 1,\n",
    "    \"dtype\": \"uint8\",\n",
    "    \"compress\": \"lzw\",  \n",
    "    \"predictor\": 2\n",
    "})\n",
    "\n",
    "# Write output raster\n",
    "output_path = os.path.join(out_dir, \"ESA_WorldCover_2021_DE_WGS84.tif\")\n",
    "with rio.open(output_path, \"w\", **meta) as dst:\n",
    "    dst.write(mosaic[0], 1)\n",
    "\n",
    "print(f\"Output saved to: {output_path}\")"
   ]
  },
  {
   "cell_type": "markdown",
   "id": "9a65b297-f742-4e47-91dd-a5db9fadd432",
   "metadata": {},
   "source": [
    "## **Calculate Landscape Metrics**"
   ]
  },
  {
   "cell_type": "code",
   "execution_count": 4,
   "id": "fdb38d34-dbcb-4589-8fc3-9e340e56a59e",
   "metadata": {},
   "outputs": [
    {
     "name": "stdout",
     "output_type": "stream",
     "text": [
      "(125, 8)\n"
     ]
    },
    {
     "data": {
      "text/html": [
       "<div>\n",
       "<style scoped>\n",
       "    .dataframe tbody tr th:only-of-type {\n",
       "        vertical-align: middle;\n",
       "    }\n",
       "\n",
       "    .dataframe tbody tr th {\n",
       "        vertical-align: top;\n",
       "    }\n",
       "\n",
       "    .dataframe thead th {\n",
       "        text-align: right;\n",
       "    }\n",
       "</style>\n",
       "<table border=\"1\" class=\"dataframe\">\n",
       "  <thead>\n",
       "    <tr style=\"text-align: right;\">\n",
       "      <th></th>\n",
       "      <th>id</th>\n",
       "      <th>left</th>\n",
       "      <th>top</th>\n",
       "      <th>right</th>\n",
       "      <th>bottom</th>\n",
       "      <th>row_index</th>\n",
       "      <th>col_index</th>\n",
       "      <th>geometry</th>\n",
       "    </tr>\n",
       "  </thead>\n",
       "  <tbody>\n",
       "    <tr>\n",
       "      <th>0</th>\n",
       "      <td>103.0</td>\n",
       "      <td>1.247152e+06</td>\n",
       "      <td>6.184975e+06</td>\n",
       "      <td>1.347152e+06</td>\n",
       "      <td>6.084975e+06</td>\n",
       "      <td>12.0</td>\n",
       "      <td>6.0</td>\n",
       "      <td>POLYGON ((11.20336 48.46744, 12.10168 48.46744...</td>\n",
       "    </tr>\n",
       "    <tr>\n",
       "      <th>1</th>\n",
       "      <td>100.0</td>\n",
       "      <td>1.247152e+06</td>\n",
       "      <td>6.481975e+06</td>\n",
       "      <td>1.347152e+06</td>\n",
       "      <td>6.381975e+06</td>\n",
       "      <td>9.0</td>\n",
       "      <td>6.0</td>\n",
       "      <td>POLYGON ((11.20336 50.20569, 12.10168 50.20569...</td>\n",
       "    </tr>\n",
       "    <tr>\n",
       "      <th>2</th>\n",
       "      <td>101.0</td>\n",
       "      <td>1.247152e+06</td>\n",
       "      <td>6.382975e+06</td>\n",
       "      <td>1.347152e+06</td>\n",
       "      <td>6.282975e+06</td>\n",
       "      <td>10.0</td>\n",
       "      <td>6.0</td>\n",
       "      <td>POLYGON ((11.20336 49.63309, 12.10168 49.63309...</td>\n",
       "    </tr>\n",
       "    <tr>\n",
       "      <th>3</th>\n",
       "      <td>107.0</td>\n",
       "      <td>1.346152e+06</td>\n",
       "      <td>7.273975e+06</td>\n",
       "      <td>1.446152e+06</td>\n",
       "      <td>7.173975e+06</td>\n",
       "      <td>1.0</td>\n",
       "      <td>7.0</td>\n",
       "      <td>POLYGON ((12.09269 54.54458, 12.99101 54.54458...</td>\n",
       "    </tr>\n",
       "    <tr>\n",
       "      <th>4</th>\n",
       "      <td>104.0</td>\n",
       "      <td>1.247152e+06</td>\n",
       "      <td>6.085975e+06</td>\n",
       "      <td>1.347152e+06</td>\n",
       "      <td>5.985975e+06</td>\n",
       "      <td>13.0</td>\n",
       "      <td>6.0</td>\n",
       "      <td>POLYGON ((11.20336 47.87434, 12.10168 47.87434...</td>\n",
       "    </tr>\n",
       "  </tbody>\n",
       "</table>\n",
       "</div>"
      ],
      "text/plain": [
       "      id          left           top         right        bottom  row_index  \\\n",
       "0  103.0  1.247152e+06  6.184975e+06  1.347152e+06  6.084975e+06       12.0   \n",
       "1  100.0  1.247152e+06  6.481975e+06  1.347152e+06  6.381975e+06        9.0   \n",
       "2  101.0  1.247152e+06  6.382975e+06  1.347152e+06  6.282975e+06       10.0   \n",
       "3  107.0  1.346152e+06  7.273975e+06  1.446152e+06  7.173975e+06        1.0   \n",
       "4  104.0  1.247152e+06  6.085975e+06  1.347152e+06  5.985975e+06       13.0   \n",
       "\n",
       "   col_index                                           geometry  \n",
       "0        6.0  POLYGON ((11.20336 48.46744, 12.10168 48.46744...  \n",
       "1        6.0  POLYGON ((11.20336 50.20569, 12.10168 50.20569...  \n",
       "2        6.0  POLYGON ((11.20336 49.63309, 12.10168 49.63309...  \n",
       "3        7.0  POLYGON ((12.09269 54.54458, 12.99101 54.54458...  \n",
       "4        6.0  POLYGON ((11.20336 47.87434, 12.10168 47.87434...  "
      ]
     },
     "execution_count": 4,
     "metadata": {},
     "output_type": "execute_result"
    }
   ],
   "source": [
    "# Read the exported data\n",
    "file_path = os.path.join(out_dir, 'raster', 'ESA_WorldCover_2021_DE.tif')\n",
    "\n",
    "grids_gdf = gpd.read_file(os.path.join(out_dir, 'vector', 'DE_Hexbins_5sqkm.shp'))\n",
    "grids_gdf = grids_gdf.to_crs('EPSG:25832')\n",
    "grids_gdf = grids_gdf[['id', 'geometry']]\n",
    "grids_gdf['id'] = grids_gdf['id'].astype(int)\n",
    "\n",
    "print(grids_gdf.shape)\n",
    "grids_gdf.head()"
   ]
  },
  {
   "cell_type": "markdown",
   "id": "041f9738-a50e-47a9-9de3-0ccd0c873dd8",
   "metadata": {},
   "source": [
    "### **Shannon Diversity Index (SHDI)**"
   ]
  },
  {
   "cell_type": "code",
   "execution_count": 5,
   "id": "c5c83bfa-cdfa-4806-b58f-4f4a82dfc3d3",
   "metadata": {
    "scrolled": true
   },
   "outputs": [],
   "source": [
    "# calculate_shdi_for_grids(\n",
    "#     grids_gdf=grids_gdf, \n",
    "#     input_raster_path=file_path, \n",
    "#     output_dir=os.path.join(out_dir, 'output', 'SHDI_Patch_27x27'),\n",
    "#     window_size=27, \n",
    "#     n_jobs=70\n",
    "# )"
   ]
  },
  {
   "cell_type": "markdown",
   "id": "dadee7ae-b811-4285-a6fc-d35306b9c4ab",
   "metadata": {},
   "source": [
    "## **Process Crop Type Data**"
   ]
  },
  {
   "cell_type": "markdown",
   "id": "adfa4aa1-8b59-4d45-aebb-68bbea1597e3",
   "metadata": {},
   "source": [
    "### **Merge and Save the Crop Type Patches**"
   ]
  },
  {
   "cell_type": "code",
   "execution_count": 32,
   "id": "c86c16f7-e931-48b0-83f8-98a98a7b09c1",
   "metadata": {},
   "outputs": [],
   "source": [
    "# for year in tqdm(range(2017, 2022)):\n",
    "#     # Define the folder where your ZIP files are located\n",
    "#     zip_folder = os.path.join(data_dir, 'DE_Crop_Types_2017_2021', str(year))\n",
    "#     output_folder = os.path.join(out_dir, 'output', 'Crop_Type_Map', str(year))\n",
    "    \n",
    "#     os.makedirs(output_folder, exist_ok=True)\n",
    "    \n",
    "#     for zip_path in glob(os.path.join(zip_folder, \"*.zip\")):\n",
    "#         with zipfile.ZipFile(zip_path, 'r') as zip_ref:\n",
    "#             # Extract the ZIP file\n",
    "#             zip_ref.extractall(output_folder)\n",
    "    \n",
    "#     # Store all the file paths\n",
    "#     file_paths = glob(os.path.join(output_folder, '*.tif'))\n",
    "#     print(f'Number of file paths: {len(file_paths)}')\n",
    "    \n",
    "#     # Open all the ratser data\n",
    "#     src_file_to_mosaic = [rio.open(fp) for fp in file_paths]\n",
    "    \n",
    "#     # Merge the rasters\n",
    "#     mosaic, out_trans = merge(src_file_to_mosaic)\n",
    "    \n",
    "#     # Close all the input files\n",
    "#     for src in src_file_to_mosaic:\n",
    "#         src.close()\n",
    "    \n",
    "#     # Prepare metadata\n",
    "#     meta = src.meta.copy()\n",
    "#     meta.update({\n",
    "#         \"driver\": \"GTiff\",\n",
    "#         \"height\": mosaic.shape[1],\n",
    "#         \"width\": mosaic.shape[2],\n",
    "#         \"transform\": out_trans,\n",
    "#         \"count\": 1,\n",
    "#         \"dtype\": \"uint16\",\n",
    "#         \"compress\": \"lzw\",  \n",
    "#         \"predictor\": 2\n",
    "#     })\n",
    "    \n",
    "#     # Write output raster\n",
    "#     output_path = os.path.join(out_dir, 'output', 'Crop_Type_Map', f\"DE_Crop_Type_{year}.tif\")\n",
    "#     with rio.open(output_path, \"w\", **meta) as dst:\n",
    "#         dst.write(mosaic[0], 1)\n",
    "    \n",
    "#     print(f\"Output saved to: {output_path}\")"
   ]
  },
  {
   "cell_type": "code",
   "execution_count": 31,
   "id": "0ef89868-397c-4fe2-beba-03bd948d202e",
   "metadata": {},
   "outputs": [],
   "source": [
    "out_path = os.path.join(out_dir, 'output', 'Crop_Type_Map', 'DE_Crop_Type_2017.tif')\n",
    "\n",
    "# Open the raster\n",
    "raster = rioxarray.open_rasterio(out_path, masked=True)\n",
    "\n",
    "# Define the target CRS\n",
    "target_crs = \"EPSG:25832\"\n",
    "\n",
    "# Reproject the raster\n",
    "raster_reprojected = raster.rio.reproject(target_crs)"
   ]
  },
  {
   "cell_type": "code",
   "execution_count": null,
   "id": "47e787c0-16dd-4483-a4d5-237eeb63f6ed",
   "metadata": {},
   "outputs": [],
   "source": [
    "raster_reprojected.sum()"
   ]
  },
  {
   "cell_type": "code",
   "execution_count": 34,
   "id": "8c8b9e4e-b954-44d1-aca0-6347da8f8b5c",
   "metadata": {
    "scrolled": true
   },
   "outputs": [
    {
     "ename": "ValueError",
     "evalue": "cannot convert float NaN to integer",
     "output_type": "error",
     "traceback": [
      "\u001b[0;31m---------------------------------------------------------------------------\u001b[0m",
      "\u001b[0;31mValueError\u001b[0m                                Traceback (most recent call last)",
      "Cell \u001b[0;32mIn[34], line 2\u001b[0m\n\u001b[1;32m      1\u001b[0m out_projected_path \u001b[38;5;241m=\u001b[39m os\u001b[38;5;241m.\u001b[39mpath\u001b[38;5;241m.\u001b[39mjoin(out_dir, \u001b[38;5;124m'\u001b[39m\u001b[38;5;124moutput\u001b[39m\u001b[38;5;124m'\u001b[39m, \u001b[38;5;124m'\u001b[39m\u001b[38;5;124mCrop_Type_Map\u001b[39m\u001b[38;5;124m'\u001b[39m, \u001b[38;5;124m'\u001b[39m\u001b[38;5;124mDE_Crop_Type_2017_EPSG_25832.tif\u001b[39m\u001b[38;5;124m'\u001b[39m)\n\u001b[0;32m----> 2\u001b[0m \u001b[43mraster_reprojected\u001b[49m\u001b[38;5;241;43m.\u001b[39;49m\u001b[43mrio\u001b[49m\u001b[38;5;241;43m.\u001b[39;49m\u001b[43mto_raster\u001b[49m\u001b[43m(\u001b[49m\u001b[43mout_projected_path\u001b[49m\u001b[43m)\u001b[49m\n",
      "File \u001b[0;32m~/.envs/pytorchcu121/lib/python3.12/site-packages/rioxarray/raster_array.py:1181\u001b[0m, in \u001b[0;36mRasterArray.to_raster\u001b[0;34m(self, raster_path, driver, dtype, tags, windowed, recalc_transform, lock, compute, **profile_kwargs)\u001b[0m\n\u001b[1;32m   1162\u001b[0m out_profile \u001b[38;5;241m=\u001b[39m {\n\u001b[1;32m   1163\u001b[0m     key: value\n\u001b[1;32m   1164\u001b[0m     \u001b[38;5;28;01mfor\u001b[39;00m key, value \u001b[38;5;129;01min\u001b[39;00m out_profile\u001b[38;5;241m.\u001b[39mitems()\n\u001b[0;32m   (...)\u001b[0m\n\u001b[1;32m   1175\u001b[0m     )\n\u001b[1;32m   1176\u001b[0m }\n\u001b[1;32m   1177\u001b[0m rio_nodata \u001b[38;5;241m=\u001b[39m (\n\u001b[1;32m   1178\u001b[0m     \u001b[38;5;28mself\u001b[39m\u001b[38;5;241m.\u001b[39mencoded_nodata \u001b[38;5;28;01mif\u001b[39;00m \u001b[38;5;28mself\u001b[39m\u001b[38;5;241m.\u001b[39mencoded_nodata \u001b[38;5;129;01mis\u001b[39;00m \u001b[38;5;129;01mnot\u001b[39;00m \u001b[38;5;28;01mNone\u001b[39;00m \u001b[38;5;28;01melse\u001b[39;00m \u001b[38;5;28mself\u001b[39m\u001b[38;5;241m.\u001b[39mnodata\n\u001b[1;32m   1179\u001b[0m )\n\u001b[0;32m-> 1181\u001b[0m \u001b[38;5;28;01mreturn\u001b[39;00m \u001b[43mRasterioWriter\u001b[49m\u001b[43m(\u001b[49m\u001b[43mraster_path\u001b[49m\u001b[38;5;241;43m=\u001b[39;49m\u001b[43mraster_path\u001b[49m\u001b[43m)\u001b[49m\u001b[38;5;241;43m.\u001b[39;49m\u001b[43mto_raster\u001b[49m\u001b[43m(\u001b[49m\n\u001b[1;32m   1182\u001b[0m \u001b[43m    \u001b[49m\u001b[43mxarray_dataarray\u001b[49m\u001b[38;5;241;43m=\u001b[39;49m\u001b[38;5;28;43mself\u001b[39;49m\u001b[38;5;241;43m.\u001b[39;49m\u001b[43m_obj\u001b[49m\u001b[43m,\u001b[49m\n\u001b[1;32m   1183\u001b[0m \u001b[43m    \u001b[49m\u001b[43mtags\u001b[49m\u001b[38;5;241;43m=\u001b[39;49m\u001b[43mtags\u001b[49m\u001b[43m,\u001b[49m\n\u001b[1;32m   1184\u001b[0m \u001b[43m    \u001b[49m\u001b[43mdriver\u001b[49m\u001b[38;5;241;43m=\u001b[39;49m\u001b[43mdriver\u001b[49m\u001b[43m,\u001b[49m\n\u001b[1;32m   1185\u001b[0m \u001b[43m    \u001b[49m\u001b[43mheight\u001b[49m\u001b[38;5;241;43m=\u001b[39;49m\u001b[38;5;28;43mint\u001b[39;49m\u001b[43m(\u001b[49m\u001b[38;5;28;43mself\u001b[39;49m\u001b[38;5;241;43m.\u001b[39;49m\u001b[43mheight\u001b[49m\u001b[43m)\u001b[49m\u001b[43m,\u001b[49m\n\u001b[1;32m   1186\u001b[0m \u001b[43m    \u001b[49m\u001b[43mwidth\u001b[49m\u001b[38;5;241;43m=\u001b[39;49m\u001b[38;5;28;43mint\u001b[39;49m\u001b[43m(\u001b[49m\u001b[38;5;28;43mself\u001b[39;49m\u001b[38;5;241;43m.\u001b[39;49m\u001b[43mwidth\u001b[49m\u001b[43m)\u001b[49m\u001b[43m,\u001b[49m\n\u001b[1;32m   1187\u001b[0m \u001b[43m    \u001b[49m\u001b[43mcount\u001b[49m\u001b[38;5;241;43m=\u001b[39;49m\u001b[38;5;28;43mint\u001b[39;49m\u001b[43m(\u001b[49m\u001b[38;5;28;43mself\u001b[39;49m\u001b[38;5;241;43m.\u001b[39;49m\u001b[43mcount\u001b[49m\u001b[43m)\u001b[49m\u001b[43m,\u001b[49m\n\u001b[1;32m   1188\u001b[0m \u001b[43m    \u001b[49m\u001b[43mdtype\u001b[49m\u001b[38;5;241;43m=\u001b[39;49m\u001b[43mdtype\u001b[49m\u001b[43m,\u001b[49m\n\u001b[1;32m   1189\u001b[0m \u001b[43m    \u001b[49m\u001b[43mcrs\u001b[49m\u001b[38;5;241;43m=\u001b[39;49m\u001b[38;5;28;43mself\u001b[39;49m\u001b[38;5;241;43m.\u001b[39;49m\u001b[43mcrs\u001b[49m\u001b[43m,\u001b[49m\n\u001b[1;32m   1190\u001b[0m \u001b[43m    \u001b[49m\u001b[43mtransform\u001b[49m\u001b[38;5;241;43m=\u001b[39;49m\u001b[38;5;28;43mself\u001b[39;49m\u001b[38;5;241;43m.\u001b[39;49m\u001b[43mtransform\u001b[49m\u001b[43m(\u001b[49m\u001b[43mrecalc\u001b[49m\u001b[38;5;241;43m=\u001b[39;49m\u001b[43mrecalc_transform\u001b[49m\u001b[43m)\u001b[49m\u001b[43m,\u001b[49m\n\u001b[1;32m   1191\u001b[0m \u001b[43m    \u001b[49m\u001b[43mgcps\u001b[49m\u001b[38;5;241;43m=\u001b[39;49m\u001b[38;5;28;43mself\u001b[39;49m\u001b[38;5;241;43m.\u001b[39;49m\u001b[43mget_gcps\u001b[49m\u001b[43m(\u001b[49m\u001b[43m)\u001b[49m\u001b[43m,\u001b[49m\n\u001b[1;32m   1192\u001b[0m \u001b[43m    \u001b[49m\u001b[43mnodata\u001b[49m\u001b[38;5;241;43m=\u001b[39;49m\u001b[43mrio_nodata\u001b[49m\u001b[43m,\u001b[49m\n\u001b[1;32m   1193\u001b[0m \u001b[43m    \u001b[49m\u001b[43mwindowed\u001b[49m\u001b[38;5;241;43m=\u001b[39;49m\u001b[43mwindowed\u001b[49m\u001b[43m,\u001b[49m\n\u001b[1;32m   1194\u001b[0m \u001b[43m    \u001b[49m\u001b[43mlock\u001b[49m\u001b[38;5;241;43m=\u001b[39;49m\u001b[43mlock\u001b[49m\u001b[43m,\u001b[49m\n\u001b[1;32m   1195\u001b[0m \u001b[43m    \u001b[49m\u001b[43mcompute\u001b[49m\u001b[38;5;241;43m=\u001b[39;49m\u001b[43mcompute\u001b[49m\u001b[43m,\u001b[49m\n\u001b[1;32m   1196\u001b[0m \u001b[43m    \u001b[49m\u001b[38;5;241;43m*\u001b[39;49m\u001b[38;5;241;43m*\u001b[39;49m\u001b[43mout_profile\u001b[49m\u001b[43m,\u001b[49m\n\u001b[1;32m   1197\u001b[0m \u001b[43m\u001b[49m\u001b[43m)\u001b[49m\n",
      "File \u001b[0;32m~/.envs/pytorchcu121/lib/python3.12/site-packages/rioxarray/raster_writer.py:282\u001b[0m, in \u001b[0;36mRasterioWriter.to_raster\u001b[0;34m(self, xarray_dataarray, tags, windowed, lock, compute, **kwargs)\u001b[0m\n\u001b[1;32m    276\u001b[0m         xarray_dataarray\u001b[38;5;241m.\u001b[39mencoding[\u001b[38;5;124m\"\u001b[39m\u001b[38;5;124mdtype\u001b[39m\u001b[38;5;124m\"\u001b[39m] \u001b[38;5;241m=\u001b[39m \u001b[38;5;28mstr\u001b[39m(unsigned_dtype)\n\u001b[1;32m    278\u001b[0m \u001b[38;5;28;01mif\u001b[39;00m kwargs[\u001b[38;5;124m\"\u001b[39m\u001b[38;5;124mnodata\u001b[39m\u001b[38;5;124m\"\u001b[39m] \u001b[38;5;129;01mis\u001b[39;00m \u001b[38;5;129;01mnot\u001b[39;00m \u001b[38;5;28;01mNone\u001b[39;00m:\n\u001b[1;32m    279\u001b[0m     \u001b[38;5;66;03m# Ensure dtype of output data matches the expected dtype.\u001b[39;00m\n\u001b[1;32m    280\u001b[0m     \u001b[38;5;66;03m# This check is added here as the dtype of the data is\u001b[39;00m\n\u001b[1;32m    281\u001b[0m     \u001b[38;5;66;03m# converted right before writing.\u001b[39;00m\n\u001b[0;32m--> 282\u001b[0m     kwargs[\u001b[38;5;124m\"\u001b[39m\u001b[38;5;124mnodata\u001b[39m\u001b[38;5;124m\"\u001b[39m] \u001b[38;5;241m=\u001b[39m \u001b[43m_ensure_nodata_dtype\u001b[49m\u001b[43m(\u001b[49m\n\u001b[1;32m    283\u001b[0m \u001b[43m        \u001b[49m\u001b[43moriginal_nodata\u001b[49m\u001b[38;5;241;43m=\u001b[39;49m\u001b[43mkwargs\u001b[49m\u001b[43m[\u001b[49m\u001b[38;5;124;43m\"\u001b[39;49m\u001b[38;5;124;43mnodata\u001b[39;49m\u001b[38;5;124;43m\"\u001b[39;49m\u001b[43m]\u001b[49m\u001b[43m,\u001b[49m\u001b[43m \u001b[49m\u001b[43mnew_dtype\u001b[49m\u001b[38;5;241;43m=\u001b[39;49m\u001b[43mnumpy_dtype\u001b[49m\n\u001b[1;32m    284\u001b[0m \u001b[43m    \u001b[49m\u001b[43m)\u001b[49m\n\u001b[1;32m    286\u001b[0m \u001b[38;5;28;01mwith\u001b[39;00m rasterio\u001b[38;5;241m.\u001b[39mopen(\u001b[38;5;28mself\u001b[39m\u001b[38;5;241m.\u001b[39mraster_path, \u001b[38;5;124m\"\u001b[39m\u001b[38;5;124mw\u001b[39m\u001b[38;5;124m\"\u001b[39m, \u001b[38;5;241m*\u001b[39m\u001b[38;5;241m*\u001b[39mkwargs) \u001b[38;5;28;01mas\u001b[39;00m rds:\n\u001b[1;32m    287\u001b[0m     _write_metatata_to_raster(\n\u001b[1;32m    288\u001b[0m         raster_handle\u001b[38;5;241m=\u001b[39mrds, xarray_dataset\u001b[38;5;241m=\u001b[39mxarray_dataarray, tags\u001b[38;5;241m=\u001b[39mtags\n\u001b[1;32m    289\u001b[0m     )\n",
      "File \u001b[0;32m~/.envs/pytorchcu121/lib/python3.12/site-packages/rioxarray/raster_writer.py:139\u001b[0m, in \u001b[0;36m_ensure_nodata_dtype\u001b[0;34m(original_nodata, new_dtype)\u001b[0m\n\u001b[1;32m    134\u001b[0m failure_message \u001b[38;5;241m=\u001b[39m (\n\u001b[1;32m    135\u001b[0m     \u001b[38;5;124mf\u001b[39m\u001b[38;5;124m\"\u001b[39m\u001b[38;5;124mUnable to convert nodata value (\u001b[39m\u001b[38;5;132;01m{\u001b[39;00moriginal_nodata\u001b[38;5;132;01m}\u001b[39;00m\u001b[38;5;124m) to \u001b[39m\u001b[38;5;124m\"\u001b[39m\n\u001b[1;32m    136\u001b[0m     \u001b[38;5;124mf\u001b[39m\u001b[38;5;124m\"\u001b[39m\u001b[38;5;124mnew dtype (\u001b[39m\u001b[38;5;132;01m{\u001b[39;00mnew_dtype\u001b[38;5;132;01m}\u001b[39;00m\u001b[38;5;124m).\u001b[39m\u001b[38;5;124m\"\u001b[39m\n\u001b[1;32m    137\u001b[0m )\n\u001b[1;32m    138\u001b[0m \u001b[38;5;28;01mtry\u001b[39;00m:\n\u001b[0;32m--> 139\u001b[0m     nodata \u001b[38;5;241m=\u001b[39m \u001b[43mnew_dtype\u001b[49m\u001b[38;5;241;43m.\u001b[39;49m\u001b[43mtype\u001b[49m\u001b[43m(\u001b[49m\u001b[43moriginal_nodata\u001b[49m\u001b[43m)\u001b[49m\n\u001b[1;32m    140\u001b[0m \u001b[38;5;28;01mexcept\u001b[39;00m \u001b[38;5;167;01mOverflowError\u001b[39;00m \u001b[38;5;28;01mas\u001b[39;00m error:\n\u001b[1;32m    141\u001b[0m     \u001b[38;5;28;01mraise\u001b[39;00m \u001b[38;5;167;01mOverflowError\u001b[39;00m(failure_message) \u001b[38;5;28;01mfrom\u001b[39;00m\u001b[38;5;250m \u001b[39m\u001b[38;5;21;01merror\u001b[39;00m\n",
      "\u001b[0;31mValueError\u001b[0m: cannot convert float NaN to integer"
     ]
    }
   ],
   "source": [
    "out_projected_path = os.path.join(out_dir, 'output', 'Crop_Type_Map', 'DE_Crop_Type_2017_EPSG_25832.tif')\n",
    "raster_reprojected.rio.to_raster(out_projected_path)"
   ]
  },
  {
   "cell_type": "code",
   "execution_count": 33,
   "id": "80476eee-a7ee-4c32-b6bc-e51137e8085f",
   "metadata": {
    "collapsed": true,
    "jupyter": {
     "outputs_hidden": true
    }
   },
   "outputs": [
    {
     "ename": "TypeError",
     "evalue": "invalid path or file: <xarray.DataArray (band: 1, y: 101122, x: 81261)> Size: 33GB\narray([[[nan, nan, nan, ..., nan, nan, nan],\n        [nan, nan, nan, ..., nan, nan, nan],\n        [nan, nan, nan, ..., nan, nan, nan],\n        ...,\n        [nan, nan, nan, ..., nan, nan, nan],\n        [nan, nan, nan, ..., nan, nan, nan],\n        [nan, nan, nan, ..., nan, nan, nan]]], dtype=float32)\nCoordinates:\n  * x            (x) float64 650kB 2.424e+05 2.424e+05 ... 1.056e+06 1.056e+06\n  * y            (y) float64 809kB 6.159e+06 6.159e+06 ... 5.147e+06 5.147e+06\n  * band         (band) int64 8B 1\n    spatial_ref  int64 8B 0\nAttributes:\n    AREA_OR_POINT:  Area\n    scale_factor:   1.0\n    add_offset:     0.0\n    _FillValue:     nan",
     "output_type": "error",
     "traceback": [
      "\u001b[0;31m---------------------------------------------------------------------------\u001b[0m",
      "\u001b[0;31mTypeError\u001b[0m                                 Traceback (most recent call last)",
      "Cell \u001b[0;32mIn[33], line 2\u001b[0m\n\u001b[1;32m      1\u001b[0m \u001b[38;5;66;03m# Read the LULC using PyLandStats package\u001b[39;00m\n\u001b[0;32m----> 2\u001b[0m za \u001b[38;5;241m=\u001b[39m \u001b[43mpls\u001b[49m\u001b[38;5;241;43m.\u001b[39;49m\u001b[43mZonalAnalysis\u001b[49m\u001b[43m(\u001b[49m\u001b[43mraster_reprojected\u001b[49m\u001b[43m,\u001b[49m\u001b[43m \u001b[49m\u001b[43mzones\u001b[49m\u001b[38;5;241;43m=\u001b[39;49m\u001b[43mgrids_gdf\u001b[49m\u001b[38;5;241;43m.\u001b[39;49m\u001b[43miloc\u001b[49m\u001b[43m[\u001b[49m\u001b[43m:\u001b[49m\u001b[38;5;241;43m5\u001b[39;49m\u001b[43m]\u001b[49m\u001b[43m,\u001b[49m\u001b[43m \u001b[49m\u001b[43mzone_index\u001b[49m\u001b[38;5;241;43m=\u001b[39;49m\u001b[38;5;124;43m'\u001b[39;49m\u001b[38;5;124;43mid\u001b[39;49m\u001b[38;5;124;43m'\u001b[39;49m\u001b[43m,\u001b[49m\u001b[43m \u001b[49m\u001b[43mneighborhood_rule\u001b[49m\u001b[38;5;241;43m=\u001b[39;49m\u001b[38;5;241;43m8\u001b[39;49m\u001b[43m)\u001b[49m\n\u001b[1;32m      3\u001b[0m \u001b[38;5;66;03m# Extract all the class metrics\u001b[39;00m\n\u001b[1;32m      4\u001b[0m class_metrics_df \u001b[38;5;241m=\u001b[39m za\u001b[38;5;241m.\u001b[39mcompute_class_metrics_df()\u001b[38;5;241m.\u001b[39mreset_index()\n",
      "File \u001b[0;32m~/.envs/pytorchcu121/lib/python3.12/site-packages/pylandstats/zonal.py:124\u001b[0m, in \u001b[0;36mZonalAnalysis.__init__\u001b[0;34m(self, landscape_filepath, zones, zone_index, zone_nodata, neighborhood_rule)\u001b[0m\n\u001b[1;32m    118\u001b[0m \u001b[38;5;28;01mexcept\u001b[39;00m ZONES_READ_ERRORS:\n\u001b[1;32m    119\u001b[0m     \u001b[38;5;66;03m# Depending on the system and installed libraries, geopandas may raise an\u001b[39;00m\n\u001b[1;32m    120\u001b[0m     \u001b[38;5;66;03m# `AttributeError`, `TypeError` or `fiona.errors.DriverError`. we let this\u001b[39;00m\n\u001b[1;32m    121\u001b[0m     \u001b[38;5;66;03m# continue and try to read the `zones` argument differently below\u001b[39;00m\n\u001b[1;32m    122\u001b[0m     \u001b[38;5;28;01mpass\u001b[39;00m\n\u001b[0;32m--> 124\u001b[0m \u001b[38;5;28;01mwith\u001b[39;00m \u001b[43mrio\u001b[49m\u001b[38;5;241;43m.\u001b[39;49m\u001b[43mopen\u001b[49m\u001b[43m(\u001b[49m\u001b[43mlandscape_filepath\u001b[49m\u001b[43m)\u001b[49m \u001b[38;5;28;01mas\u001b[39;00m src:\n\u001b[1;32m    125\u001b[0m     \u001b[38;5;28;01mif\u001b[39;00m \u001b[38;5;28misinstance\u001b[39m(zones, np\u001b[38;5;241m.\u001b[39mndarray):\n\u001b[1;32m    126\u001b[0m         \u001b[38;5;66;03m# zones is an ndarray labelling each zone by a unique integer value\u001b[39;00m\n\u001b[1;32m    127\u001b[0m         \u001b[38;5;66;03m# we first instantiate a geo-data frame because we will use the labels\u001b[39;00m\n\u001b[1;32m    128\u001b[0m         \u001b[38;5;66;03m# as zone ids\u001b[39;00m\n\u001b[1;32m    129\u001b[0m         zones \u001b[38;5;241m=\u001b[39m gpd\u001b[38;5;241m.\u001b[39mGeoDataFrame(\n\u001b[1;32m    130\u001b[0m             [\n\u001b[1;32m    131\u001b[0m                 (val, geometry\u001b[38;5;241m.\u001b[39mshape(geom))\n\u001b[0;32m   (...)\u001b[0m\n\u001b[1;32m    136\u001b[0m             crs\u001b[38;5;241m=\u001b[39msrc\u001b[38;5;241m.\u001b[39mcrs,\n\u001b[1;32m    137\u001b[0m         )\n",
      "File \u001b[0;32m~/.envs/pytorchcu121/lib/python3.12/site-packages/rasterio/env.py:463\u001b[0m, in \u001b[0;36mensure_env_with_credentials.<locals>.wrapper\u001b[0;34m(*args, **kwds)\u001b[0m\n\u001b[1;32m    460\u001b[0m     session \u001b[38;5;241m=\u001b[39m DummySession()\n\u001b[1;32m    462\u001b[0m \u001b[38;5;28;01mwith\u001b[39;00m env_ctor(session\u001b[38;5;241m=\u001b[39msession):\n\u001b[0;32m--> 463\u001b[0m     \u001b[38;5;28;01mreturn\u001b[39;00m \u001b[43mf\u001b[49m\u001b[43m(\u001b[49m\u001b[38;5;241;43m*\u001b[39;49m\u001b[43margs\u001b[49m\u001b[43m,\u001b[49m\u001b[43m \u001b[49m\u001b[38;5;241;43m*\u001b[39;49m\u001b[38;5;241;43m*\u001b[39;49m\u001b[43mkwds\u001b[49m\u001b[43m)\u001b[49m\n",
      "File \u001b[0;32m~/.envs/pytorchcu121/lib/python3.12/site-packages/rasterio/__init__.py:246\u001b[0m, in \u001b[0;36mopen\u001b[0;34m(fp, mode, driver, width, height, count, crs, transform, dtype, nodata, sharing, opener, **kwargs)\u001b[0m\n\u001b[1;32m    239\u001b[0m \u001b[38;5;28;01mif\u001b[39;00m \u001b[38;5;129;01mnot\u001b[39;00m \u001b[38;5;28misinstance\u001b[39m(fp, \u001b[38;5;28mstr\u001b[39m):\n\u001b[1;32m    240\u001b[0m     \u001b[38;5;28;01mif\u001b[39;00m \u001b[38;5;129;01mnot\u001b[39;00m (\n\u001b[1;32m    241\u001b[0m         \u001b[38;5;28mhasattr\u001b[39m(fp, \u001b[38;5;124m\"\u001b[39m\u001b[38;5;124mopen\u001b[39m\u001b[38;5;124m\"\u001b[39m)\n\u001b[1;32m    242\u001b[0m         \u001b[38;5;129;01mor\u001b[39;00m \u001b[38;5;28mhasattr\u001b[39m(fp, \u001b[38;5;124m\"\u001b[39m\u001b[38;5;124mread\u001b[39m\u001b[38;5;124m\"\u001b[39m)\n\u001b[1;32m    243\u001b[0m         \u001b[38;5;129;01mor\u001b[39;00m \u001b[38;5;28mhasattr\u001b[39m(fp, \u001b[38;5;124m\"\u001b[39m\u001b[38;5;124mwrite\u001b[39m\u001b[38;5;124m\"\u001b[39m)\n\u001b[1;32m    244\u001b[0m         \u001b[38;5;129;01mor\u001b[39;00m \u001b[38;5;28misinstance\u001b[39m(fp, (os\u001b[38;5;241m.\u001b[39mPathLike, MemoryFile, FilePath))\n\u001b[1;32m    245\u001b[0m     ) \u001b[38;5;129;01mor\u001b[39;00m \u001b[38;5;28misinstance\u001b[39m(fp, DatasetBase):\n\u001b[0;32m--> 246\u001b[0m         \u001b[38;5;28;01mraise\u001b[39;00m \u001b[38;5;167;01mTypeError\u001b[39;00m(\u001b[38;5;124mf\u001b[39m\u001b[38;5;124m\"\u001b[39m\u001b[38;5;124minvalid path or file: \u001b[39m\u001b[38;5;132;01m{\u001b[39;00mfp\u001b[38;5;132;01m!r}\u001b[39;00m\u001b[38;5;124m\"\u001b[39m)\n\u001b[1;32m    247\u001b[0m \u001b[38;5;28;01mif\u001b[39;00m \u001b[38;5;129;01mnot\u001b[39;00m \u001b[38;5;28misinstance\u001b[39m(mode, \u001b[38;5;28mstr\u001b[39m):\n\u001b[1;32m    248\u001b[0m     \u001b[38;5;28;01mraise\u001b[39;00m \u001b[38;5;167;01mTypeError\u001b[39;00m(\u001b[38;5;124mf\u001b[39m\u001b[38;5;124m\"\u001b[39m\u001b[38;5;124minvalid mode: \u001b[39m\u001b[38;5;132;01m{\u001b[39;00mmode\u001b[38;5;132;01m!r}\u001b[39;00m\u001b[38;5;124m\"\u001b[39m)\n",
      "\u001b[0;31mTypeError\u001b[0m: invalid path or file: <xarray.DataArray (band: 1, y: 101122, x: 81261)> Size: 33GB\narray([[[nan, nan, nan, ..., nan, nan, nan],\n        [nan, nan, nan, ..., nan, nan, nan],\n        [nan, nan, nan, ..., nan, nan, nan],\n        ...,\n        [nan, nan, nan, ..., nan, nan, nan],\n        [nan, nan, nan, ..., nan, nan, nan],\n        [nan, nan, nan, ..., nan, nan, nan]]], dtype=float32)\nCoordinates:\n  * x            (x) float64 650kB 2.424e+05 2.424e+05 ... 1.056e+06 1.056e+06\n  * y            (y) float64 809kB 6.159e+06 6.159e+06 ... 5.147e+06 5.147e+06\n  * band         (band) int64 8B 1\n    spatial_ref  int64 8B 0\nAttributes:\n    AREA_OR_POINT:  Area\n    scale_factor:   1.0\n    add_offset:     0.0\n    _FillValue:     nan"
     ]
    }
   ],
   "source": [
    "# Read the LULC using PyLandStats package\n",
    "za = pls.ZonalAnalysis(raster_reprojected, zones=grids_gdf.iloc[:5], zone_index='id', neighborhood_rule=8)\n",
    "# Extract all the class metrics\n",
    "class_metrics_df = za.compute_class_metrics_df().reset_index()\n",
    "# Extract the landscape metrics\n",
    "# landscape_metrics_df = za.compute_landscape_metrics_df().reset_index()"
   ]
  },
  {
   "cell_type": "code",
   "execution_count": 1,
   "id": "69346f6b-cc5a-4069-9971-8f28e00d324a",
   "metadata": {},
   "outputs": [
    {
     "name": "stdout",
     "output_type": "stream",
     "text": [
      "Successfully read the grids!\n"
     ]
    },
    {
     "ename": "KeyboardInterrupt",
     "evalue": "",
     "output_type": "error",
     "traceback": [
      "\u001b[0;31m---------------------------------------------------------------------------\u001b[0m",
      "\u001b[0;31mKeyboardInterrupt\u001b[0m                         Traceback (most recent call last)",
      "File \u001b[0;32m/usr/lib/python3.12/logging/__init__.py:1529\u001b[0m, in \u001b[0;36mLogger.info\u001b[0;34m(self, msg, *args, **kwargs)\u001b[0m\n\u001b[1;32m   1526\u001b[0m     \u001b[38;5;28;01mif\u001b[39;00m \u001b[38;5;28mself\u001b[39m\u001b[38;5;241m.\u001b[39misEnabledFor(DEBUG):\n\u001b[1;32m   1527\u001b[0m         \u001b[38;5;28mself\u001b[39m\u001b[38;5;241m.\u001b[39m_log(DEBUG, msg, args, \u001b[38;5;241m*\u001b[39m\u001b[38;5;241m*\u001b[39mkwargs)\n\u001b[0;32m-> 1529\u001b[0m \u001b[38;5;28;01mdef\u001b[39;00m\u001b[38;5;250m \u001b[39m\u001b[38;5;21minfo\u001b[39m(\u001b[38;5;28mself\u001b[39m, msg, \u001b[38;5;241m*\u001b[39margs, \u001b[38;5;241m*\u001b[39m\u001b[38;5;241m*\u001b[39mkwargs):\n\u001b[1;32m   1530\u001b[0m \u001b[38;5;250m    \u001b[39m\u001b[38;5;124;03m\"\"\"\u001b[39;00m\n\u001b[1;32m   1531\u001b[0m \u001b[38;5;124;03m    Log 'msg % args' with severity 'INFO'.\u001b[39;00m\n\u001b[1;32m   1532\u001b[0m \n\u001b[0;32m   (...)\u001b[0m\n\u001b[1;32m   1536\u001b[0m \u001b[38;5;124;03m    logger.info(\"Houston, we have a %s\", \"notable problem\", exc_info=True)\u001b[39;00m\n\u001b[1;32m   1537\u001b[0m \u001b[38;5;124;03m    \"\"\"\u001b[39;00m\n\u001b[1;32m   1538\u001b[0m     \u001b[38;5;28;01mif\u001b[39;00m \u001b[38;5;28mself\u001b[39m\u001b[38;5;241m.\u001b[39misEnabledFor(INFO):\n",
      "\u001b[0;31mKeyboardInterrupt\u001b[0m: "
     ]
    },
    {
     "name": "stderr",
     "output_type": "stream",
     "text": [
      "Exception ignored in: 'rasterio._err.log_error'\n",
      "Traceback (most recent call last):\n",
      "  File \"/usr/lib/python3.12/logging/__init__.py\", line 1529, in info\n",
      "    def info(self, msg, *args, **kwargs):\n",
      "\n",
      "KeyboardInterrupt: \n"
     ]
    },
    {
     "ename": "RasterioIOError",
     "evalue": "Read failed. See previous exception for details.",
     "output_type": "error",
     "traceback": [
      "\u001b[0;31m---------------------------------------------------------------------------\u001b[0m",
      "\u001b[0;31mCPLE_AppDefinedError\u001b[0m                      Traceback (most recent call last)",
      "\u001b[0;31mCPLE_AppDefinedError\u001b[0m: LZWDecode:Wrong length of decoded string: data probably corrupted at scanline 81881",
      "\nThe above exception was the direct cause of the following exception:\n",
      "\u001b[0;31mCPLE_AppDefinedError\u001b[0m                      Traceback (most recent call last)",
      "\u001b[0;31mCPLE_AppDefinedError\u001b[0m: TIFFReadEncodedStrip() failed.",
      "\nThe above exception was the direct cause of the following exception:\n",
      "\u001b[0;31mCPLE_AppDefinedError\u001b[0m                      Traceback (most recent call last)",
      "File \u001b[0;32mrasterio/_io.pyx:969\u001b[0m, in \u001b[0;36mrasterio._io.DatasetReaderBase._read\u001b[0;34m()\u001b[0m\n",
      "File \u001b[0;32mrasterio/_io.pyx:199\u001b[0m, in \u001b[0;36mrasterio._io.io_multi_band\u001b[0;34m()\u001b[0m\n",
      "File \u001b[0;32mrasterio/_io.pyx:205\u001b[0m, in \u001b[0;36mrasterio._io.io_multi_band\u001b[0;34m()\u001b[0m\n",
      "File \u001b[0;32mrasterio/_err.pyx:325\u001b[0m, in \u001b[0;36mrasterio._err.StackChecker.exc_wrap_int\u001b[0;34m()\u001b[0m\n",
      "\u001b[0;31mCPLE_AppDefinedError\u001b[0m: ESA_WorldCover_2021_DE.tif, band 1: IReadBlock failed at X offset 0, Y offset 81881: TIFFReadEncodedStrip() failed.",
      "\nThe above exception was the direct cause of the following exception:\n",
      "\u001b[0;31mRasterioIOError\u001b[0m                           Traceback (most recent call last)",
      "Cell \u001b[0;32mIn[1], line 59\u001b[0m\n\u001b[1;32m     57\u001b[0m raster \u001b[38;5;241m=\u001b[39m rioxarray\u001b[38;5;241m.\u001b[39mopen_rasterio(lulc_file_path, masked\u001b[38;5;241m=\u001b[39m\u001b[38;5;28;01mTrue\u001b[39;00m)\n\u001b[1;32m     58\u001b[0m target_crs \u001b[38;5;241m=\u001b[39m \u001b[38;5;124mf\u001b[39m\u001b[38;5;124m\"\u001b[39m\u001b[38;5;124mEPSG:\u001b[39m\u001b[38;5;132;01m{\u001b[39;00mEPSG\u001b[38;5;132;01m}\u001b[39;00m\u001b[38;5;124m\"\u001b[39m\n\u001b[0;32m---> 59\u001b[0m raster_reprojected \u001b[38;5;241m=\u001b[39m \u001b[43mraster\u001b[49m\u001b[38;5;241;43m.\u001b[39;49m\u001b[43mrio\u001b[49m\u001b[38;5;241;43m.\u001b[39;49m\u001b[43mreproject\u001b[49m\u001b[43m(\u001b[49m\u001b[43mtarget_crs\u001b[49m\u001b[43m)\u001b[49m\n\u001b[1;32m     61\u001b[0m \u001b[38;5;66;03m# Save reprojected raster to temporary directory\u001b[39;00m\n\u001b[1;32m     62\u001b[0m reprojected_raster_path \u001b[38;5;241m=\u001b[39m os\u001b[38;5;241m.\u001b[39mpath\u001b[38;5;241m.\u001b[39mjoin(TEMP_DIR, \u001b[38;5;124mf\u001b[39m\u001b[38;5;124m'\u001b[39m\u001b[38;5;124mESA_WorldCover_2021_DE_EPSG_\u001b[39m\u001b[38;5;132;01m{\u001b[39;00mEPSG\u001b[38;5;132;01m}\u001b[39;00m\u001b[38;5;124m.tif\u001b[39m\u001b[38;5;124m'\u001b[39m)\n",
      "File \u001b[0;32m~/.envs/pytorchcu121/lib/python3.12/site-packages/rioxarray/raster_array.py:489\u001b[0m, in \u001b[0;36mRasterArray.reproject\u001b[0;34m(self, dst_crs, resolution, shape, transform, resampling, nodata, **kwargs)\u001b[0m\n\u001b[1;32m    485\u001b[0m dst_data \u001b[38;5;241m=\u001b[39m \u001b[38;5;28mself\u001b[39m\u001b[38;5;241m.\u001b[39m_create_dst_data(dst_height\u001b[38;5;241m=\u001b[39mdst_height, dst_width\u001b[38;5;241m=\u001b[39mdst_width)\n\u001b[1;32m    487\u001b[0m dst_nodata \u001b[38;5;241m=\u001b[39m \u001b[38;5;28mself\u001b[39m\u001b[38;5;241m.\u001b[39m_get_dst_nodata(nodata)\n\u001b[1;32m    488\u001b[0m rasterio\u001b[38;5;241m.\u001b[39mwarp\u001b[38;5;241m.\u001b[39mreproject(\n\u001b[0;32m--> 489\u001b[0m     source\u001b[38;5;241m=\u001b[39m\u001b[38;5;28;43mself\u001b[39;49m\u001b[38;5;241;43m.\u001b[39;49m\u001b[43m_obj\u001b[49m\u001b[38;5;241;43m.\u001b[39;49m\u001b[43mvalues\u001b[49m,\n\u001b[1;32m    490\u001b[0m     destination\u001b[38;5;241m=\u001b[39mdst_data,\n\u001b[1;32m    491\u001b[0m     src_transform\u001b[38;5;241m=\u001b[39msrc_affine,\n\u001b[1;32m    492\u001b[0m     src_crs\u001b[38;5;241m=\u001b[39m\u001b[38;5;28mself\u001b[39m\u001b[38;5;241m.\u001b[39mcrs,\n\u001b[1;32m    493\u001b[0m     src_nodata\u001b[38;5;241m=\u001b[39m\u001b[38;5;28mself\u001b[39m\u001b[38;5;241m.\u001b[39mnodata,\n\u001b[1;32m    494\u001b[0m     dst_transform\u001b[38;5;241m=\u001b[39mdst_affine,\n\u001b[1;32m    495\u001b[0m     dst_crs\u001b[38;5;241m=\u001b[39mdst_crs,\n\u001b[1;32m    496\u001b[0m     dst_nodata\u001b[38;5;241m=\u001b[39mdst_nodata,\n\u001b[1;32m    497\u001b[0m     resampling\u001b[38;5;241m=\u001b[39mresampling,\n\u001b[1;32m    498\u001b[0m     \u001b[38;5;241m*\u001b[39m\u001b[38;5;241m*\u001b[39mkwargs,\n\u001b[1;32m    499\u001b[0m )\n\u001b[1;32m    500\u001b[0m \u001b[38;5;66;03m# add necessary attributes\u001b[39;00m\n\u001b[1;32m    501\u001b[0m new_attrs \u001b[38;5;241m=\u001b[39m _generate_attrs(src_data_array\u001b[38;5;241m=\u001b[39m\u001b[38;5;28mself\u001b[39m\u001b[38;5;241m.\u001b[39m_obj, dst_nodata\u001b[38;5;241m=\u001b[39mdst_nodata)\n",
      "File \u001b[0;32m~/.envs/pytorchcu121/lib/python3.12/site-packages/xarray/core/dataarray.py:815\u001b[0m, in \u001b[0;36mDataArray.values\u001b[0;34m(self)\u001b[0m\n\u001b[1;32m    802\u001b[0m \u001b[38;5;129m@property\u001b[39m\n\u001b[1;32m    803\u001b[0m \u001b[38;5;28;01mdef\u001b[39;00m\u001b[38;5;250m \u001b[39m\u001b[38;5;21mvalues\u001b[39m(\u001b[38;5;28mself\u001b[39m) \u001b[38;5;241m-\u001b[39m\u001b[38;5;241m>\u001b[39m np\u001b[38;5;241m.\u001b[39mndarray:\n\u001b[1;32m    804\u001b[0m \u001b[38;5;250m    \u001b[39m\u001b[38;5;124;03m\"\"\"\u001b[39;00m\n\u001b[1;32m    805\u001b[0m \u001b[38;5;124;03m    The array's data converted to numpy.ndarray.\u001b[39;00m\n\u001b[1;32m    806\u001b[0m \n\u001b[0;32m   (...)\u001b[0m\n\u001b[1;32m    813\u001b[0m \u001b[38;5;124;03m    to this array may be reflected in the DataArray as well.\u001b[39;00m\n\u001b[1;32m    814\u001b[0m \u001b[38;5;124;03m    \"\"\"\u001b[39;00m\n\u001b[0;32m--> 815\u001b[0m     \u001b[38;5;28;01mreturn\u001b[39;00m \u001b[38;5;28;43mself\u001b[39;49m\u001b[38;5;241;43m.\u001b[39;49m\u001b[43mvariable\u001b[49m\u001b[38;5;241;43m.\u001b[39;49m\u001b[43mvalues\u001b[49m\n",
      "File \u001b[0;32m~/.envs/pytorchcu121/lib/python3.12/site-packages/xarray/core/variable.py:516\u001b[0m, in \u001b[0;36mVariable.values\u001b[0;34m(self)\u001b[0m\n\u001b[1;32m    513\u001b[0m \u001b[38;5;129m@property\u001b[39m\n\u001b[1;32m    514\u001b[0m \u001b[38;5;28;01mdef\u001b[39;00m\u001b[38;5;250m \u001b[39m\u001b[38;5;21mvalues\u001b[39m(\u001b[38;5;28mself\u001b[39m) \u001b[38;5;241m-\u001b[39m\u001b[38;5;241m>\u001b[39m np\u001b[38;5;241m.\u001b[39mndarray:\n\u001b[1;32m    515\u001b[0m \u001b[38;5;250m    \u001b[39m\u001b[38;5;124;03m\"\"\"The variable's data as a numpy.ndarray\"\"\"\u001b[39;00m\n\u001b[0;32m--> 516\u001b[0m     \u001b[38;5;28;01mreturn\u001b[39;00m \u001b[43m_as_array_or_item\u001b[49m\u001b[43m(\u001b[49m\u001b[38;5;28;43mself\u001b[39;49m\u001b[38;5;241;43m.\u001b[39;49m\u001b[43m_data\u001b[49m\u001b[43m)\u001b[49m\n",
      "File \u001b[0;32m~/.envs/pytorchcu121/lib/python3.12/site-packages/xarray/core/variable.py:302\u001b[0m, in \u001b[0;36m_as_array_or_item\u001b[0;34m(data)\u001b[0m\n\u001b[1;32m    288\u001b[0m \u001b[38;5;28;01mdef\u001b[39;00m\u001b[38;5;250m \u001b[39m\u001b[38;5;21m_as_array_or_item\u001b[39m(data):\n\u001b[1;32m    289\u001b[0m \u001b[38;5;250m    \u001b[39m\u001b[38;5;124;03m\"\"\"Return the given values as a numpy array, or as an individual item if\u001b[39;00m\n\u001b[1;32m    290\u001b[0m \u001b[38;5;124;03m    it's a 0d datetime64 or timedelta64 array.\u001b[39;00m\n\u001b[1;32m    291\u001b[0m \n\u001b[0;32m   (...)\u001b[0m\n\u001b[1;32m    300\u001b[0m \u001b[38;5;124;03m    TODO: remove this (replace with np.asarray) once these issues are fixed\u001b[39;00m\n\u001b[1;32m    301\u001b[0m \u001b[38;5;124;03m    \"\"\"\u001b[39;00m\n\u001b[0;32m--> 302\u001b[0m     data \u001b[38;5;241m=\u001b[39m \u001b[43mnp\u001b[49m\u001b[38;5;241;43m.\u001b[39;49m\u001b[43masarray\u001b[49m\u001b[43m(\u001b[49m\u001b[43mdata\u001b[49m\u001b[43m)\u001b[49m\n\u001b[1;32m    303\u001b[0m     \u001b[38;5;28;01mif\u001b[39;00m data\u001b[38;5;241m.\u001b[39mndim \u001b[38;5;241m==\u001b[39m \u001b[38;5;241m0\u001b[39m:\n\u001b[1;32m    304\u001b[0m         kind \u001b[38;5;241m=\u001b[39m data\u001b[38;5;241m.\u001b[39mdtype\u001b[38;5;241m.\u001b[39mkind\n",
      "File \u001b[0;32m~/.envs/pytorchcu121/lib/python3.12/site-packages/xarray/core/indexing.py:511\u001b[0m, in \u001b[0;36mExplicitlyIndexed.__array__\u001b[0;34m(self, dtype, copy)\u001b[0m\n\u001b[1;32m    506\u001b[0m \u001b[38;5;28;01mdef\u001b[39;00m\u001b[38;5;250m \u001b[39m\u001b[38;5;21m__array__\u001b[39m(\n\u001b[1;32m    507\u001b[0m     \u001b[38;5;28mself\u001b[39m, dtype: np\u001b[38;5;241m.\u001b[39mtyping\u001b[38;5;241m.\u001b[39mDTypeLike \u001b[38;5;241m=\u001b[39m \u001b[38;5;28;01mNone\u001b[39;00m, \u001b[38;5;241m/\u001b[39m, \u001b[38;5;241m*\u001b[39m, copy: \u001b[38;5;28mbool\u001b[39m \u001b[38;5;241m|\u001b[39m \u001b[38;5;28;01mNone\u001b[39;00m \u001b[38;5;241m=\u001b[39m \u001b[38;5;28;01mNone\u001b[39;00m\n\u001b[1;32m    508\u001b[0m ) \u001b[38;5;241m-\u001b[39m\u001b[38;5;241m>\u001b[39m np\u001b[38;5;241m.\u001b[39mndarray:\n\u001b[1;32m    509\u001b[0m     \u001b[38;5;66;03m# Leave casting to an array up to the underlying array type.\u001b[39;00m\n\u001b[1;32m    510\u001b[0m     \u001b[38;5;28;01mif\u001b[39;00m Version(np\u001b[38;5;241m.\u001b[39m__version__) \u001b[38;5;241m>\u001b[39m\u001b[38;5;241m=\u001b[39m Version(\u001b[38;5;124m\"\u001b[39m\u001b[38;5;124m2.0.0\u001b[39m\u001b[38;5;124m\"\u001b[39m):\n\u001b[0;32m--> 511\u001b[0m         \u001b[38;5;28;01mreturn\u001b[39;00m np\u001b[38;5;241m.\u001b[39masarray(\u001b[38;5;28;43mself\u001b[39;49m\u001b[38;5;241;43m.\u001b[39;49m\u001b[43mget_duck_array\u001b[49m\u001b[43m(\u001b[49m\u001b[43m)\u001b[49m, dtype\u001b[38;5;241m=\u001b[39mdtype, copy\u001b[38;5;241m=\u001b[39mcopy)\n\u001b[1;32m    512\u001b[0m     \u001b[38;5;28;01melse\u001b[39;00m:\n\u001b[1;32m    513\u001b[0m         \u001b[38;5;28;01mreturn\u001b[39;00m np\u001b[38;5;241m.\u001b[39masarray(\u001b[38;5;28mself\u001b[39m\u001b[38;5;241m.\u001b[39mget_duck_array(), dtype\u001b[38;5;241m=\u001b[39mdtype)\n",
      "File \u001b[0;32m~/.envs/pytorchcu121/lib/python3.12/site-packages/xarray/core/indexing.py:837\u001b[0m, in \u001b[0;36mMemoryCachedArray.get_duck_array\u001b[0;34m(self)\u001b[0m\n\u001b[1;32m    836\u001b[0m \u001b[38;5;28;01mdef\u001b[39;00m\u001b[38;5;250m \u001b[39m\u001b[38;5;21mget_duck_array\u001b[39m(\u001b[38;5;28mself\u001b[39m):\n\u001b[0;32m--> 837\u001b[0m     \u001b[38;5;28;43mself\u001b[39;49m\u001b[38;5;241;43m.\u001b[39;49m\u001b[43m_ensure_cached\u001b[49m\u001b[43m(\u001b[49m\u001b[43m)\u001b[49m\n\u001b[1;32m    838\u001b[0m     \u001b[38;5;28;01mreturn\u001b[39;00m \u001b[38;5;28mself\u001b[39m\u001b[38;5;241m.\u001b[39marray\u001b[38;5;241m.\u001b[39mget_duck_array()\n",
      "File \u001b[0;32m~/.envs/pytorchcu121/lib/python3.12/site-packages/xarray/core/indexing.py:834\u001b[0m, in \u001b[0;36mMemoryCachedArray._ensure_cached\u001b[0;34m(self)\u001b[0m\n\u001b[1;32m    833\u001b[0m \u001b[38;5;28;01mdef\u001b[39;00m\u001b[38;5;250m \u001b[39m\u001b[38;5;21m_ensure_cached\u001b[39m(\u001b[38;5;28mself\u001b[39m):\n\u001b[0;32m--> 834\u001b[0m     \u001b[38;5;28mself\u001b[39m\u001b[38;5;241m.\u001b[39marray \u001b[38;5;241m=\u001b[39m as_indexable(\u001b[38;5;28;43mself\u001b[39;49m\u001b[38;5;241;43m.\u001b[39;49m\u001b[43marray\u001b[49m\u001b[38;5;241;43m.\u001b[39;49m\u001b[43mget_duck_array\u001b[49m\u001b[43m(\u001b[49m\u001b[43m)\u001b[49m)\n",
      "File \u001b[0;32m~/.envs/pytorchcu121/lib/python3.12/site-packages/xarray/core/indexing.py:791\u001b[0m, in \u001b[0;36mCopyOnWriteArray.get_duck_array\u001b[0;34m(self)\u001b[0m\n\u001b[1;32m    790\u001b[0m \u001b[38;5;28;01mdef\u001b[39;00m\u001b[38;5;250m \u001b[39m\u001b[38;5;21mget_duck_array\u001b[39m(\u001b[38;5;28mself\u001b[39m):\n\u001b[0;32m--> 791\u001b[0m     \u001b[38;5;28;01mreturn\u001b[39;00m \u001b[38;5;28;43mself\u001b[39;49m\u001b[38;5;241;43m.\u001b[39;49m\u001b[43marray\u001b[49m\u001b[38;5;241;43m.\u001b[39;49m\u001b[43mget_duck_array\u001b[49m\u001b[43m(\u001b[49m\u001b[43m)\u001b[49m\n",
      "File \u001b[0;32m~/.envs/pytorchcu121/lib/python3.12/site-packages/xarray/core/indexing.py:654\u001b[0m, in \u001b[0;36mLazilyIndexedArray.get_duck_array\u001b[0;34m(self)\u001b[0m\n\u001b[1;32m    650\u001b[0m     array \u001b[38;5;241m=\u001b[39m apply_indexer(\u001b[38;5;28mself\u001b[39m\u001b[38;5;241m.\u001b[39marray, \u001b[38;5;28mself\u001b[39m\u001b[38;5;241m.\u001b[39mkey)\n\u001b[1;32m    651\u001b[0m \u001b[38;5;28;01melse\u001b[39;00m:\n\u001b[1;32m    652\u001b[0m     \u001b[38;5;66;03m# If the array is not an ExplicitlyIndexedNDArrayMixin,\u001b[39;00m\n\u001b[1;32m    653\u001b[0m     \u001b[38;5;66;03m# it may wrap a BackendArray so use its __getitem__\u001b[39;00m\n\u001b[0;32m--> 654\u001b[0m     array \u001b[38;5;241m=\u001b[39m \u001b[38;5;28;43mself\u001b[39;49m\u001b[38;5;241;43m.\u001b[39;49m\u001b[43marray\u001b[49m\u001b[43m[\u001b[49m\u001b[38;5;28;43mself\u001b[39;49m\u001b[38;5;241;43m.\u001b[39;49m\u001b[43mkey\u001b[49m\u001b[43m]\u001b[49m\n\u001b[1;32m    656\u001b[0m \u001b[38;5;66;03m# self.array[self.key] is now a numpy array when\u001b[39;00m\n\u001b[1;32m    657\u001b[0m \u001b[38;5;66;03m# self.array is a BackendArray subclass\u001b[39;00m\n\u001b[1;32m    658\u001b[0m \u001b[38;5;66;03m# and self.key is BasicIndexer((slice(None, None, None),))\u001b[39;00m\n\u001b[1;32m    659\u001b[0m \u001b[38;5;66;03m# so we need the explicit check for ExplicitlyIndexed\u001b[39;00m\n\u001b[1;32m    660\u001b[0m \u001b[38;5;28;01mif\u001b[39;00m \u001b[38;5;28misinstance\u001b[39m(array, ExplicitlyIndexed):\n",
      "File \u001b[0;32m~/.envs/pytorchcu121/lib/python3.12/site-packages/rioxarray/_io.py:456\u001b[0m, in \u001b[0;36mRasterioArrayWrapper.__getitem__\u001b[0;34m(self, key)\u001b[0m\n\u001b[1;32m    455\u001b[0m \u001b[38;5;28;01mdef\u001b[39;00m\u001b[38;5;250m \u001b[39m\u001b[38;5;21m__getitem__\u001b[39m(\u001b[38;5;28mself\u001b[39m, key):\n\u001b[0;32m--> 456\u001b[0m     \u001b[38;5;28;01mreturn\u001b[39;00m \u001b[43mindexing\u001b[49m\u001b[38;5;241;43m.\u001b[39;49m\u001b[43mexplicit_indexing_adapter\u001b[49m\u001b[43m(\u001b[49m\n\u001b[1;32m    457\u001b[0m \u001b[43m        \u001b[49m\u001b[43mkey\u001b[49m\u001b[43m,\u001b[49m\u001b[43m \u001b[49m\u001b[38;5;28;43mself\u001b[39;49m\u001b[38;5;241;43m.\u001b[39;49m\u001b[43mshape\u001b[49m\u001b[43m,\u001b[49m\u001b[43m \u001b[49m\u001b[43mindexing\u001b[49m\u001b[38;5;241;43m.\u001b[39;49m\u001b[43mIndexingSupport\u001b[49m\u001b[38;5;241;43m.\u001b[39;49m\u001b[43mOUTER\u001b[49m\u001b[43m,\u001b[49m\u001b[43m \u001b[49m\u001b[38;5;28;43mself\u001b[39;49m\u001b[38;5;241;43m.\u001b[39;49m\u001b[43m_getitem\u001b[49m\n\u001b[1;32m    458\u001b[0m \u001b[43m    \u001b[49m\u001b[43m)\u001b[49m\n",
      "File \u001b[0;32m~/.envs/pytorchcu121/lib/python3.12/site-packages/xarray/core/indexing.py:1015\u001b[0m, in \u001b[0;36mexplicit_indexing_adapter\u001b[0;34m(key, shape, indexing_support, raw_indexing_method)\u001b[0m\n\u001b[1;32m    993\u001b[0m \u001b[38;5;250m\u001b[39m\u001b[38;5;124;03m\"\"\"Support explicit indexing by delegating to a raw indexing method.\u001b[39;00m\n\u001b[1;32m    994\u001b[0m \n\u001b[1;32m    995\u001b[0m \u001b[38;5;124;03mOuter and/or vectorized indexers are supported by indexing a second time\u001b[39;00m\n\u001b[0;32m   (...)\u001b[0m\n\u001b[1;32m   1012\u001b[0m \u001b[38;5;124;03mIndexing result, in the form of a duck numpy-array.\u001b[39;00m\n\u001b[1;32m   1013\u001b[0m \u001b[38;5;124;03m\"\"\"\u001b[39;00m\n\u001b[1;32m   1014\u001b[0m raw_key, numpy_indices \u001b[38;5;241m=\u001b[39m decompose_indexer(key, shape, indexing_support)\n\u001b[0;32m-> 1015\u001b[0m result \u001b[38;5;241m=\u001b[39m \u001b[43mraw_indexing_method\u001b[49m\u001b[43m(\u001b[49m\u001b[43mraw_key\u001b[49m\u001b[38;5;241;43m.\u001b[39;49m\u001b[43mtuple\u001b[49m\u001b[43m)\u001b[49m\n\u001b[1;32m   1016\u001b[0m \u001b[38;5;28;01mif\u001b[39;00m numpy_indices\u001b[38;5;241m.\u001b[39mtuple:\n\u001b[1;32m   1017\u001b[0m     \u001b[38;5;66;03m# index the loaded duck array\u001b[39;00m\n\u001b[1;32m   1018\u001b[0m     indexable \u001b[38;5;241m=\u001b[39m as_indexable(result)\n",
      "File \u001b[0;32m~/.envs/pytorchcu121/lib/python3.12/site-packages/rioxarray/_io.py:433\u001b[0m, in \u001b[0;36mRasterioArrayWrapper._getitem\u001b[0;34m(self, key)\u001b[0m\n\u001b[1;32m    429\u001b[0m \u001b[38;5;28;01mwith\u001b[39;00m \u001b[38;5;28mself\u001b[39m\u001b[38;5;241m.\u001b[39mlock:\n\u001b[1;32m    430\u001b[0m     riods \u001b[38;5;241m=\u001b[39m _ensure_warped_vrt(\n\u001b[1;32m    431\u001b[0m         \u001b[38;5;28mself\u001b[39m\u001b[38;5;241m.\u001b[39mmanager\u001b[38;5;241m.\u001b[39macquire(needs_lock\u001b[38;5;241m=\u001b[39m\u001b[38;5;28;01mFalse\u001b[39;00m), \u001b[38;5;28mself\u001b[39m\u001b[38;5;241m.\u001b[39mvrt_params\n\u001b[1;32m    432\u001b[0m     )\n\u001b[0;32m--> 433\u001b[0m     out \u001b[38;5;241m=\u001b[39m \u001b[43mriods\u001b[49m\u001b[38;5;241;43m.\u001b[39;49m\u001b[43mread\u001b[49m\u001b[43m(\u001b[49m\u001b[43mband_key\u001b[49m\u001b[43m,\u001b[49m\u001b[43m \u001b[49m\u001b[43mwindow\u001b[49m\u001b[38;5;241;43m=\u001b[39;49m\u001b[43mwindow\u001b[49m\u001b[43m,\u001b[49m\u001b[43m \u001b[49m\u001b[43mmasked\u001b[49m\u001b[38;5;241;43m=\u001b[39;49m\u001b[38;5;28;43mself\u001b[39;49m\u001b[38;5;241;43m.\u001b[39;49m\u001b[43mmasked\u001b[49m\u001b[43m)\u001b[49m\n\u001b[1;32m    434\u001b[0m     \u001b[38;5;28;01mif\u001b[39;00m \u001b[38;5;28mself\u001b[39m\u001b[38;5;241m.\u001b[39m_unsigned_dtype \u001b[38;5;129;01mis\u001b[39;00m \u001b[38;5;129;01mnot\u001b[39;00m \u001b[38;5;28;01mNone\u001b[39;00m:\n\u001b[1;32m    435\u001b[0m         out \u001b[38;5;241m=\u001b[39m out\u001b[38;5;241m.\u001b[39mastype(\u001b[38;5;28mself\u001b[39m\u001b[38;5;241m.\u001b[39m_unsigned_dtype)\n",
      "File \u001b[0;32mrasterio/_io.pyx:644\u001b[0m, in \u001b[0;36mrasterio._io.DatasetReaderBase.read\u001b[0;34m()\u001b[0m\n",
      "File \u001b[0;32mrasterio/_io.pyx:972\u001b[0m, in \u001b[0;36mrasterio._io.DatasetReaderBase._read\u001b[0;34m()\u001b[0m\n",
      "\u001b[0;31mRasterioIOError\u001b[0m: Read failed. See previous exception for details."
     ]
    }
   ],
   "source": [
    "# ----------------------------------------------------------------------------------------------------\n",
    "# Import Required Libraries\n",
    "# ----------------------------------------------------------------------------------------------------\n",
    "import numpy as np\n",
    "import pandas as pd\n",
    "import matplotlib.pyplot as plt\n",
    "import seaborn as sns\n",
    "import geopandas as gpd\n",
    "import os\n",
    "from glob import glob\n",
    "import pylandstats as pls\n",
    "import warnings\n",
    "import rioxarray\n",
    "\n",
    "# Suppress warnings to keep output clean\n",
    "warnings.filterwarnings('ignore')\n",
    "\n",
    "# ----------------------------------------------------------------------------------------------------\n",
    "# Define File and Directory Paths\n",
    "# ----------------------------------------------------------------------------------------------------\n",
    "# Main directory containing raw raster and vector datasets\n",
    "MAIN_DATA_DIR = r'/beegfs/halder/jupyter_playgroundnoconda_p3.12_1/jupyter_work/project/DATA'\n",
    "\n",
    "# GitHub-linked project directory where processed data and results are stored\n",
    "PROJECT_DATA_DIR = r'/beegfs/halder/jupyter_playgroundnoconda_p3.12_1/jupyter_work/project/GITHUB/Landscape-Analysis/data'\n",
    "\n",
    "# Temporary directory used for storing intermediate files\n",
    "TEMP_DIR = r'/beegfs/halder/GITHUB/Landscape-Analysis/data/temp'\n",
    "\n",
    "\n",
    "# ----------------------------------------------------------------------------------------------------\n",
    "# Load Hexagonal Grid (5 km² resolution) for Germany\n",
    "# ----------------------------------------------------------------------------------------------------\n",
    "EPSG = 25832  # Use ETRS89 / UTM Zone 32N as the projection (suitable for Germany)\n",
    "\n",
    "# Path to grid shapefile\n",
    "GRID_PATH = os.path.join(PROJECT_DATA_DIR, 'VECTOR', f'DE_Hexbins_5sqkm_EPSG_{EPSG}.shp')\n",
    "\n",
    "# Load grid as a GeoDataFrame and retain relevant columns\n",
    "grids_gdf = gpd.read_file(GRID_PATH)\n",
    "grids_gdf = grids_gdf[['id', 'geometry']]\n",
    "grids_gdf['id'] = grids_gdf['id'].astype(int)\n",
    "\n",
    "print('Successfully read the grids!')\n",
    "\n",
    "\n",
    "# ----------------------------------------------------------------------------------------------------\n",
    "# Compute Landscape Metrics Using PyLandStats\n",
    "# ----------------------------------------------------------------------------------------------------\n",
    "out_dir = os.path.join(PROJECT_DATA_DIR, 'OUTPUT', 'Landscape_Metrics')\n",
    "os.makedirs(out_dir, exist_ok=True)\n",
    "\n",
    "# Path to ESA WorldCover LULC raster (10 m resolution, 2021)\n",
    "lulc_file_path = os.path.join(MAIN_DATA_DIR, 'ESA_WORLDCOVER_10M_2021_V200', 'ESA_WorldCover_2021_DE.tif')\n",
    "\n",
    "# Open and reproject the raster to match the grid CRS (ETRS89 / UTM Zone 32N)\n",
    "raster = rioxarray.open_rasterio(lulc_file_path, masked=True)\n",
    "target_crs = f\"EPSG:{EPSG}\"\n",
    "raster_reprojected = raster.rio.reproject(target_crs)\n",
    "\n",
    "# Save reprojected raster to temporary directory\n",
    "reprojected_raster_path = os.path.join(TEMP_DIR, f'ESA_WorldCover_2021_DE_EPSG_{EPSG}.tif')\n",
    "raster_reprojected.rio.to_raster(reprojected_raster_path)\n",
    "\n",
    "# Create ZonalAnalysis object for computing landscape metrics per grid zone\n",
    "za = pls.ZonalAnalysis(\n",
    "    reprojected_raster_path,  # Use the reprojected raster\n",
    "    zones=grids_gdf,\n",
    "    zone_index='id',\n",
    "    neighborhood_rule=8       # 8-neighbor connectivity for landscape pattern analysis\n",
    ")\n",
    "\n",
    "# Compute class-level metrics (per land cover class) for each zone\n",
    "class_metrics_df = za.compute_class_metrics_df().reset_index()\n",
    "class_metrics_df.to_csv(os.path.join(out_dir, 'class_metrics.csv'), index=False)\n",
    "\n",
    "# Compute landscape-level metrics (overall structure) for each zone\n",
    "landscape_metrics_df = za.compute_landscape_metrics_df().reset_index()\n",
    "landscape_metrics_df.to_csv(os.path.join(out_dir, 'landscape_metrics.csv'), index=False)\n",
    "\n",
    "print('Landscape metrics computation complete!')"
   ]
  }
 ],
 "metadata": {
  "kernelspec": {
   "display_name": "PyTorch CUDA 12.1",
   "language": "python",
   "name": "pytorchcu121"
  },
  "language_info": {
   "codemirror_mode": {
    "name": "ipython",
    "version": 3
   },
   "file_extension": ".py",
   "mimetype": "text/x-python",
   "name": "python",
   "nbconvert_exporter": "python",
   "pygments_lexer": "ipython3",
   "version": "3.12.3"
  }
 },
 "nbformat": 4,
 "nbformat_minor": 5
}
