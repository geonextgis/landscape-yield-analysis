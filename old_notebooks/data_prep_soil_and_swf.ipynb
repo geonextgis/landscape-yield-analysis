{
 "cells": [
  {
   "cell_type": "markdown",
   "id": "f4f2c5da-6365-4a21-bc19-7297ff9a8426",
   "metadata": {},
   "source": [
    "## Import Dependencies"
   ]
  },
  {
   "cell_type": "code",
   "execution_count": 1,
   "id": "dc121c49-9a25-4c60-9f07-a521da8e6304",
   "metadata": {},
   "outputs": [],
   "source": [
    "import numpy as np\n",
    "import pandas as pd\n",
    "import matplotlib.pyplot as plt\n",
    "import seaborn as sns\n",
    "import geopandas as gpd\n",
    "import os\n",
    "from glob import glob\n",
    "import pylandstats as pls\n",
    "import warnings\n",
    "import rasterio as rio\n",
    "import rasterio.mask\n",
    "from rasterio.warp import calculate_default_transform, reproject, Resampling\n",
    "from rasterstats import zonal_stats\n",
    "import argparse\n",
    "from tqdm import tqdm\n",
    "\n",
    "# Suppress warnings to keep output clean\n",
    "warnings.filterwarnings('ignore')"
   ]
  },
  {
   "cell_type": "markdown",
   "id": "40621d74-55b8-476f-bc34-c8b066da1624",
   "metadata": {},
   "source": [
    "## Define File and Directory Paths"
   ]
  },
  {
   "cell_type": "code",
   "execution_count": 2,
   "id": "45f1f70c-137f-44d3-aa20-7a8f88ee7b9b",
   "metadata": {},
   "outputs": [],
   "source": [
    "# Main directory containing raw raster and vector datasets\n",
    "MAIN_DATA_DIR = r'/beegfs/halder/DATA'\n",
    "\n",
    "# GitHub-linked project directory where processed data and results are stored\n",
    "PROJECT_DATA_DIR = r'/beegfs/halder/GITHUB/Landscape-Analysis/data'\n",
    "\n",
    "# Temporary directory used for storing intermediate files\n",
    "TEMP_DIR = os.path.join(PROJECT_DATA_DIR, 'TEMP')"
   ]
  },
  {
   "cell_type": "markdown",
   "id": "4b749fa9-13f6-4cc1-9438-60c0ab7e665a",
   "metadata": {},
   "source": [
    "## Load Hexagonal Grid for Germany"
   ]
  },
  {
   "cell_type": "code",
   "execution_count": 3,
   "id": "80d56bfb-fe1b-49c1-88f9-34ef04501318",
   "metadata": {},
   "outputs": [
    {
     "name": "stdout",
     "output_type": "stream",
     "text": [
      "Successfully read the grids!\n"
     ]
    }
   ],
   "source": [
    "DISTANCE = 10\n",
    "EPSG = 25832  # Use ETRS89 / UTM Zone 32N as the projection (suitable for Germany)\n",
    "\n",
    "# Path to grid shapefile\n",
    "GRID_PATH = os.path.join(PROJECT_DATA_DIR, 'VECTOR', f'DE_Hexbins_{DISTANCE}sqkm_EPSG_{EPSG}.shp')\n",
    "\n",
    "# Load grid as a GeoDataFrame and retain relevant columns\n",
    "grids_gdf = gpd.read_file(GRID_PATH)\n",
    "grids_gdf = grids_gdf[['id', 'geometry']]\n",
    "grids_gdf['id'] = grids_gdf['id'].astype(int)\n",
    "grids_gdf = grids_gdf.sample(100)\n",
    "\n",
    "print('Successfully read the grids!')"
   ]
  },
  {
   "cell_type": "markdown",
   "id": "c4a264e3-7e4e-4c6c-8e64-8627c8e0a5c1",
   "metadata": {},
   "source": [
    "## Compute SQR using Rasterstats"
   ]
  },
  {
   "cell_type": "code",
   "execution_count": 34,
   "id": "c9f3896f-beda-4a5c-80f4-2025e7718292",
   "metadata": {},
   "outputs": [
    {
     "name": "stdout",
     "output_type": "stream",
     "text": [
      "Raster Saved Successfully!\n"
     ]
    },
    {
     "name": "stderr",
     "output_type": "stream",
     "text": [
      "100%|██████████| 4084/4084 [00:04<00:00, 966.19it/s]\n"
     ]
    },
    {
     "name": "stdout",
     "output_type": "stream",
     "text": [
      "Soil Quality Rating computation complete!\n"
     ]
    }
   ],
   "source": [
    "out_dir = os.path.join(PROJECT_DATA_DIR, 'OUTPUT', f'Landscape_Metrics_{DISTANCE}KM')\n",
    "os.makedirs(out_dir, exist_ok=True)\n",
    "\n",
    "# Path to soil quality raster (250 m resolution)\n",
    "soil_file_path = os.path.join(MAIN_DATA_DIR, 'DE_Soil_Quality_Rating_250m', 'sqr1000_250_v10.tif')\n",
    "reprojected_raster_path = os.path.join(TEMP_DIR, f'sqr1000_250_v10_{DISTANCE}.tif')\n",
    "\n",
    "# Target CRS (Coordinate Reference System)\n",
    "dst_crs = f'EPSG:{EPSG}'\n",
    "\n",
    "# Open source raster\n",
    "with rio.open(soil_file_path) as src:\n",
    "    transform, width, height = calculate_default_transform(\n",
    "        src.crs, dst_crs, src.width, src.height, *src.bounds)\n",
    "    \n",
    "    kwargs = src.meta.copy()\n",
    "    kwargs.update({\n",
    "        'crs': dst_crs,\n",
    "        'transform': transform,\n",
    "        'width': width,\n",
    "        'height': height\n",
    "    })\n",
    "\n",
    "    # Write reprojected raster\n",
    "    with rio.open(reprojected_raster_path, 'w', **kwargs) as dst:\n",
    "        for i in range(1, src.count + 1):\n",
    "            reproject(\n",
    "                source=rio.band(src, i),\n",
    "                destination=rio.band(dst, i),\n",
    "                src_transform=src.transform,\n",
    "                src_crs=src.crs,\n",
    "                dst_transform=transform,\n",
    "                dst_crs=dst_crs,\n",
    "                resampling=Resampling.nearest\n",
    "            )\n",
    "            \n",
    "print('Raster Saved Successfully!')\n",
    "\n",
    "# Collect valid zone indices\n",
    "valid_indices = []\n",
    "\n",
    "with rio.open(reprojected_raster_path) as src:\n",
    "    for idx, row in tqdm(grids_gdf.iterrows(), total=len(grids_gdf)):\n",
    "        try:\n",
    "            mask, transform = rio.mask.mask(src, [row['geometry']], crop=True)\n",
    "            unique_vals = np.unique(mask)\n",
    "            if len(unique_vals) <= 1:  # Only background or no-data\n",
    "                print(f\"Zone {row['id']} skipped: {unique_vals}\")\n",
    "                continue\n",
    "            valid_indices.append(idx)\n",
    "        except Exception as e:\n",
    "            print(f\"Zone {row['id']} caused error: {e}\")\n",
    "            continue\n",
    "\n",
    "# Filter the GeoDataFrame\n",
    "grids_gdf = grids_gdf.loc[valid_indices].copy()\n",
    "\n",
    "# Calculate zonal stats\n",
    "stats = zonal_stats(grids_gdf, reprojected_raster_path, stats=[\"mean\", \"std\"])\n",
    "\n",
    "# Add results to GeoDataFrame\n",
    "zones_stats = grids_gdf.copy()\n",
    "for key in stats[0].keys():\n",
    "    zones_stats[key] = [s[key] for s in stats]\n",
    "\n",
    "zones_stats.rename(columns={\"mean\": 'SQR_MEAN', 'std': 'SQR_STD'}, inplace=True)\n",
    "zones_stats = zones_stats[['id', 'SQR_MEAN', 'SQR_STD']]\n",
    "\n",
    "# Save the data\n",
    "zones_stats.to_csv(os.path.join(out_dir, f'soil_quality_rating_(sqr).csv'), index=False)\n",
    "print('Soil Quality Rating computation complete!')"
   ]
  },
  {
   "cell_type": "markdown",
   "id": "acdd4e98-8016-4bcf-9a06-d6acf087ad27",
   "metadata": {},
   "source": [
    "## Compute Percentage of Small Woody Features using Rasterstats"
   ]
  },
  {
   "cell_type": "code",
   "execution_count": 5,
   "id": "a9bc56eb-2c69-461f-88b5-65b388b6d2c4",
   "metadata": {},
   "outputs": [
    {
     "name": "stdout",
     "output_type": "stream",
     "text": [
      "(10, 2)\n"
     ]
    },
    {
     "data": {
      "text/html": [
       "<div>\n",
       "<style scoped>\n",
       "    .dataframe tbody tr th:only-of-type {\n",
       "        vertical-align: middle;\n",
       "    }\n",
       "\n",
       "    .dataframe tbody tr th {\n",
       "        vertical-align: top;\n",
       "    }\n",
       "\n",
       "    .dataframe thead th {\n",
       "        text-align: right;\n",
       "    }\n",
       "</style>\n",
       "<table border=\"1\" class=\"dataframe\">\n",
       "  <thead>\n",
       "    <tr style=\"text-align: right;\">\n",
       "      <th></th>\n",
       "      <th>id</th>\n",
       "      <th>geometry</th>\n",
       "    </tr>\n",
       "  </thead>\n",
       "  <tbody>\n",
       "    <tr>\n",
       "      <th>1121</th>\n",
       "      <td>3321</td>\n",
       "      <td>POLYGON ((609537.038 5956309.119, 612423.79 59...</td>\n",
       "    </tr>\n",
       "    <tr>\n",
       "      <th>4328</th>\n",
       "      <td>1172</td>\n",
       "      <td>POLYGON ((393030.687 5691309.119, 395917.439 5...</td>\n",
       "    </tr>\n",
       "    <tr>\n",
       "      <th>949</th>\n",
       "      <td>3899</td>\n",
       "      <td>POLYGON ((661498.563 5396309.119, 664385.314 5...</td>\n",
       "    </tr>\n",
       "    <tr>\n",
       "      <th>3150</th>\n",
       "      <td>4681</td>\n",
       "      <td>POLYGON ((739440.849 5401309.119, 742327.6 540...</td>\n",
       "    </tr>\n",
       "    <tr>\n",
       "      <th>3303</th>\n",
       "      <td>4882</td>\n",
       "      <td>POLYGON ((765421.611 6006309.119, 768308.362 6...</td>\n",
       "    </tr>\n",
       "  </tbody>\n",
       "</table>\n",
       "</div>"
      ],
      "text/plain": [
       "        id                                           geometry\n",
       "1121  3321  POLYGON ((609537.038 5956309.119, 612423.79 59...\n",
       "4328  1172  POLYGON ((393030.687 5691309.119, 395917.439 5...\n",
       "949   3899  POLYGON ((661498.563 5396309.119, 664385.314 5...\n",
       "3150  4681  POLYGON ((739440.849 5401309.119, 742327.6 540...\n",
       "3303  4882  POLYGON ((765421.611 6006309.119, 768308.362 6..."
      ]
     },
     "execution_count": 5,
     "metadata": {},
     "output_type": "execute_result"
    }
   ],
   "source": [
    "grids_gdf = grids_gdf.sample(10)\n",
    "print(grids_gdf.shape)\n",
    "grids_gdf.head()"
   ]
  },
  {
   "cell_type": "code",
   "execution_count": 6,
   "id": "4092cea0-afe9-46d5-bf09-b38bbbb2c653",
   "metadata": {},
   "outputs": [
    {
     "name": "stdout",
     "output_type": "stream",
     "text": [
      "Raster Saved Successfully!\n"
     ]
    },
    {
     "name": "stderr",
     "output_type": "stream",
     "text": [
      "100%|██████████| 10/10 [00:03<00:00,  2.57it/s]\n"
     ]
    },
    {
     "name": "stdout",
     "output_type": "stream",
     "text": [
      "Small Woody Features Percentage computation complete!\n"
     ]
    }
   ],
   "source": [
    "out_dir = os.path.join(PROJECT_DATA_DIR, 'OUTPUT', f'Landscape_Metrics_{DISTANCE}KM')\n",
    "os.makedirs(out_dir, exist_ok=True)\n",
    "\n",
    "# Path to small woody feature raster (5 m resolution)\n",
    "swf_file_path = os.path.join(MAIN_DATA_DIR, 'DE_Small_Woody_Features_5m', 'HRL_Small_Woody_Features_2018_005m.tif')\n",
    "reprojected_raster_path = os.path.join(TEMP_DIR, f'HRL_Small_Woody_Features_2018_005m_{DISTANCE}.tif')\n",
    "\n",
    "# Target CRS (Coordinate Reference System)\n",
    "dst_crs = f'EPSG:{EPSG}'\n",
    "\n",
    "# Open source raster\n",
    "with rio.open(swf_file_path) as src:\n",
    "    transform, width, height = calculate_default_transform(\n",
    "        src.crs, dst_crs, src.width, src.height, *src.bounds)\n",
    "    \n",
    "    kwargs = src.meta.copy()\n",
    "    kwargs.update({\n",
    "        'crs': dst_crs,\n",
    "        'transform': transform,\n",
    "        'width': width,\n",
    "        'height': height\n",
    "    })\n",
    "\n",
    "    # Write reprojected raster\n",
    "    with rio.open(reprojected_raster_path, 'w', **kwargs) as dst:\n",
    "        for i in range(1, src.count + 1):\n",
    "            reproject(\n",
    "                source=rio.band(src, i),\n",
    "                destination=rio.band(dst, i),\n",
    "                src_transform=src.transform,\n",
    "                src_crs=src.crs,\n",
    "                dst_transform=transform,\n",
    "                dst_crs=dst_crs,\n",
    "                resampling=Resampling.nearest\n",
    "            )\n",
    "            \n",
    "print('Raster Saved Successfully!')\n",
    "\n",
    "# Collect valid zone indices\n",
    "valid_indices = []\n",
    "\n",
    "with rio.open(reprojected_raster_path) as src:\n",
    "    for idx, row in tqdm(grids_gdf.iterrows(), total=len(grids_gdf)):\n",
    "        try:\n",
    "            mask, transform = rio.mask.mask(src, [row['geometry']], crop=True)\n",
    "            unique_vals = np.unique(mask)\n",
    "            if len(unique_vals) <= 1:  # Only background or no-data\n",
    "                print(f\"Zone {row['id']} skipped: {unique_vals}\")\n",
    "                continue\n",
    "            valid_indices.append(idx)\n",
    "        except Exception as e:\n",
    "            print(f\"Zone {row['id']} caused error: {e}\")\n",
    "            continue\n",
    "\n",
    "# Filter the GeoDataFrame\n",
    "grids_gdf = grids_gdf.loc[valid_indices].copy()\n",
    "\n",
    "# Calculate zonal stats\n",
    "stats = zonal_stats(grids_gdf, reprojected_raster_path, stats=[\"sum\"])\n",
    "\n",
    "# Calculate the Grid area\n",
    "grids_gdf['area_ha'] = grids_gdf.geometry.area / 10000\n",
    "\n",
    "# Add results to GeoDataFrame\n",
    "zones_stats = grids_gdf.copy()\n",
    "for key in stats[0].keys():\n",
    "    zones_stats[key] = [s[key] for s in stats]\n",
    "\n",
    "zones_stats.rename(columns={\"sum\": 'SWF_area'}, inplace=True)\n",
    "zones_stats['SWF_area_ha'] = (zones_stats['SWF_area'] * (5**2)) / 10000\n",
    "zones_stats = zones_stats[['id', 'geometry', 'area_ha', 'SWF_area_ha']]\n",
    "zones_stats['SWF_area_perc'] = (zones_stats['SWF_area_ha'] / zones_stats['area_ha']) * 100\n",
    "zones_stats = zones_stats[['id', 'area_ha', 'SWF_area_ha', 'SWF_area_perc']]\n",
    "\n",
    "# Save the data\n",
    "zones_stats.to_csv(os.path.join(out_dir, f'small_woody_featuers_percentage.csv'), index=False)\n",
    "print('Small Woody Features Percentage computation complete!')"
   ]
  }
 ],
 "metadata": {
  "kernelspec": {
   "display_name": "Python 3 (ipykernel)",
   "language": "python",
   "name": "python3"
  },
  "language_info": {
   "codemirror_mode": {
    "name": "ipython",
    "version": 3
   },
   "file_extension": ".py",
   "mimetype": "text/x-python",
   "name": "python",
   "nbconvert_exporter": "python",
   "pygments_lexer": "ipython3",
   "version": "3.12.0"
  }
 },
 "nbformat": 4,
 "nbformat_minor": 5
}
