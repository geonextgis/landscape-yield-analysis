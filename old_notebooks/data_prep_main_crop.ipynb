{
 "cells": [
  {
   "cell_type": "markdown",
   "id": "a7b1129d-2881-4176-82f2-32ea2f523d53",
   "metadata": {},
   "source": [
    "## Import Required Libraries\n"
   ]
  },
  {
   "cell_type": "code",
   "execution_count": 24,
   "id": "e9d4b7d3-bee2-456b-83dd-9eb7b1c131ca",
   "metadata": {},
   "outputs": [],
   "source": [
    "import numpy as np\n",
    "import pandas as pd\n",
    "import matplotlib.pyplot as plt\n",
    "import seaborn as sns\n",
    "import geopandas as gpd\n",
    "import os\n",
    "from glob import glob\n",
    "import pylandstats as pls\n",
    "from rasterstats import zonal_stats\n",
    "import warnings\n",
    "import rasterio as rio\n",
    "import rasterio.mask\n",
    "from rasterio.warp import calculate_default_transform, reproject, Resampling\n",
    "import argparse\n",
    "from tqdm import tqdm\n",
    "\n",
    "# Suppress warnings to keep output clean\n",
    "warnings.filterwarnings('ignore')"
   ]
  },
  {
   "cell_type": "markdown",
   "id": "dfbd16d7-39e3-451c-a1d2-d7018b3b11e3",
   "metadata": {},
   "source": [
    "## Define File and Directory Paths"
   ]
  },
  {
   "cell_type": "code",
   "execution_count": 25,
   "id": "2cbddf19-cbef-4c4a-8501-01414d91d153",
   "metadata": {},
   "outputs": [],
   "source": [
    "# Main directory containing raw raster and vector datasets\n",
    "MAIN_DATA_DIR = r'/beegfs/halder/DATA'\n",
    "\n",
    "# GitHub-linked project directory where processed data and results are stored\n",
    "PROJECT_DATA_DIR = r'/beegfs/halder/GITHUB/Landscape-Analysis/data'\n",
    "\n",
    "# Temporary directory used for storing intermediate files\n",
    "TEMP_DIR = os.path.join(PROJECT_DATA_DIR, 'TEMP')"
   ]
  },
  {
   "cell_type": "markdown",
   "id": "dc135c31-04c8-462c-99e3-05841cf5aa27",
   "metadata": {},
   "source": [
    "## Load Hexagonal Grid (5 km² resolution) for Germany"
   ]
  },
  {
   "cell_type": "code",
   "execution_count": 26,
   "id": "092338b5-f005-447d-a900-a8a940013172",
   "metadata": {},
   "outputs": [
    {
     "name": "stdout",
     "output_type": "stream",
     "text": [
      "Successfully read the grids!\n"
     ]
    }
   ],
   "source": [
    "EPSG = 25832  # Use ETRS89 / UTM Zone 32N as the projection (suitable for Germany)\n",
    "\n",
    "# Path to grid shapefile\n",
    "GRID_PATH = os.path.join(PROJECT_DATA_DIR, 'VECTOR', f'DE_Hexbins_10sqkm_EPSG_{EPSG}.shp')\n",
    "\n",
    "# Load grid as a GeoDataFrame and retain relevant columns\n",
    "grids_gdf = gpd.read_file(GRID_PATH)\n",
    "grids_gdf = grids_gdf[['id', 'geometry']]\n",
    "grids_gdf['id'] = grids_gdf['id'].astype(int)\n",
    "\n",
    "print('Successfully read the grids!')"
   ]
  },
  {
   "cell_type": "markdown",
   "id": "e3694be6-18b8-4d4e-a404-d8016f6c1e09",
   "metadata": {},
   "source": [
    "## Compute Crop Metrics Using PyLandStats\n"
   ]
  },
  {
   "cell_type": "code",
   "execution_count": null,
   "id": "c61159df-ccd8-4bef-8a5e-b6f13b75a782",
   "metadata": {},
   "outputs": [
    {
     "name": "stdout",
     "output_type": "stream",
     "text": [
      "Raster Saved Successfully!\n"
     ]
    },
    {
     "name": "stderr",
     "output_type": "stream",
     "text": [
      "  1%|          | 41/4430 [00:06<05:22, 13.61it/s]"
     ]
    },
    {
     "name": "stdout",
     "output_type": "stream",
     "text": [
      "Zone 1456 skipped: [0]\n"
     ]
    },
    {
     "name": "stderr",
     "output_type": "stream",
     "text": [
      "  3%|▎         | 137/4430 [00:14<03:57, 18.08it/s]"
     ]
    },
    {
     "name": "stdout",
     "output_type": "stream",
     "text": [
      "Zone 1473 skipped: [0]\n"
     ]
    },
    {
     "name": "stderr",
     "output_type": "stream",
     "text": [
      "  4%|▍         | 189/4430 [00:17<05:01, 14.08it/s]"
     ]
    },
    {
     "name": "stdout",
     "output_type": "stream",
     "text": [
      "Zone 1386 skipped: [0]\n"
     ]
    },
    {
     "name": "stderr",
     "output_type": "stream",
     "text": [
      "  5%|▍         | 202/4430 [00:17<02:55, 24.03it/s]"
     ]
    },
    {
     "name": "stdout",
     "output_type": "stream",
     "text": [
      "Zone 1369 skipped: [0]\n"
     ]
    },
    {
     "name": "stderr",
     "output_type": "stream",
     "text": [
      " 12%|█▏        | 517/4430 [00:29<01:21, 48.04it/s]"
     ]
    },
    {
     "name": "stdout",
     "output_type": "stream",
     "text": [
      "Zone 223 skipped: [0]\n"
     ]
    },
    {
     "name": "stderr",
     "output_type": "stream",
     "text": [
      " 13%|█▎        | 597/4430 [00:31<01:19, 48.27it/s]"
     ]
    },
    {
     "name": "stdout",
     "output_type": "stream",
     "text": [
      "Zone 312 skipped: [0]\n"
     ]
    },
    {
     "name": "stderr",
     "output_type": "stream",
     "text": [
      " 14%|█▍        | 642/4430 [00:32<03:16, 19.30it/s]"
     ]
    },
    {
     "name": "stdout",
     "output_type": "stream",
     "text": [
      "Zone 3739 skipped: [0]\n",
      "Zone 3738 skipped: [0]\n"
     ]
    },
    {
     "name": "stderr",
     "output_type": "stream",
     "text": [
      " 18%|█▊        | 796/4430 [00:44<03:21, 18.01it/s]"
     ]
    },
    {
     "name": "stdout",
     "output_type": "stream",
     "text": [
      "Zone 3705 skipped: [0]\n"
     ]
    },
    {
     "name": "stderr",
     "output_type": "stream",
     "text": [
      " 19%|█▉        | 838/4430 [00:47<06:07,  9.77it/s]"
     ]
    },
    {
     "name": "stdout",
     "output_type": "stream",
     "text": [
      "Zone 3651 skipped: [0]\n",
      "Zone 3650 skipped: [0]\n"
     ]
    },
    {
     "name": "stderr",
     "output_type": "stream",
     "text": [
      " 19%|█▉        | 857/4430 [00:47<03:26, 17.33it/s]"
     ]
    },
    {
     "name": "stdout",
     "output_type": "stream",
     "text": [
      "Zone 4000 skipped: [0]\n"
     ]
    },
    {
     "name": "stderr",
     "output_type": "stream",
     "text": [
      " 20%|█▉        | 868/4430 [00:48<04:20, 13.69it/s]"
     ]
    },
    {
     "name": "stdout",
     "output_type": "stream",
     "text": [
      "Zone 3999 skipped: [0]\n",
      "Zone 3998 skipped: [0]\n"
     ]
    },
    {
     "name": "stderr",
     "output_type": "stream",
     "text": [
      " 20%|██        | 901/4430 [00:53<02:42, 21.68it/s]"
     ]
    },
    {
     "name": "stdout",
     "output_type": "stream",
     "text": [
      "Zone 4085 skipped: [0]\n",
      "Zone 4087 skipped: [0]\n",
      "Zone 4086 skipped: [0]\n"
     ]
    },
    {
     "name": "stderr",
     "output_type": "stream",
     "text": [
      " 24%|██▍       | 1056/4430 [01:03<02:59, 18.81it/s]"
     ]
    },
    {
     "name": "stdout",
     "output_type": "stream",
     "text": [
      "Zone 3913 skipped: [0]\n",
      "Zone 3912 skipped: [0]\n"
     ]
    },
    {
     "name": "stderr",
     "output_type": "stream",
     "text": [
      " 24%|██▍       | 1063/4430 [01:04<05:27, 10.29it/s]"
     ]
    },
    {
     "name": "stdout",
     "output_type": "stream",
     "text": [
      "Zone 3911 skipped: [0]\n"
     ]
    },
    {
     "name": "stderr",
     "output_type": "stream",
     "text": [
      " 24%|██▍       | 1071/4430 [01:04<03:39, 15.30it/s]"
     ]
    },
    {
     "name": "stdout",
     "output_type": "stream",
     "text": [
      "Zone 3256 skipped: [0]\n"
     ]
    },
    {
     "name": "stderr",
     "output_type": "stream",
     "text": [
      " 25%|██▍       | 1101/4430 [01:05<02:23, 23.19it/s]"
     ]
    },
    {
     "name": "stdout",
     "output_type": "stream",
     "text": [
      "Zone 3217 skipped: [0]\n",
      "Zone 3216 skipped: [0]\n",
      "Zone 3219 skipped: [0]\n"
     ]
    },
    {
     "name": "stderr",
     "output_type": "stream",
     "text": [
      " 25%|██▌       | 1110/4430 [01:06<02:29, 22.24it/s]"
     ]
    },
    {
     "name": "stdout",
     "output_type": "stream",
     "text": [
      "Zone 3218 skipped: [0]\n"
     ]
    },
    {
     "name": "stderr",
     "output_type": "stream",
     "text": [
      " 26%|██▌       | 1142/4430 [01:08<01:54, 28.62it/s]"
     ]
    },
    {
     "name": "stdout",
     "output_type": "stream",
     "text": [
      "Zone 3305 skipped: [0]\n",
      "Zone 3304 skipped: [0]\n",
      "Zone 3303 skipped: [0]\n",
      "Zone 3302 skipped: [0]\n"
     ]
    },
    {
     "name": "stderr",
     "output_type": "stream",
     "text": [
      " 26%|██▋       | 1173/4430 [01:11<08:29,  6.39it/s]"
     ]
    },
    {
     "name": "stdout",
     "output_type": "stream",
     "text": [
      "Zone 3266 skipped: [0]\n"
     ]
    },
    {
     "name": "stderr",
     "output_type": "stream",
     "text": [
      " 27%|██▋       | 1181/4430 [01:12<04:48, 11.27it/s]"
     ]
    },
    {
     "name": "stdout",
     "output_type": "stream",
     "text": [
      "Zone 3129 skipped: [0]\n",
      "Zone 3131 skipped: [0]\n",
      "Zone 3130 skipped: [0]\n",
      "Zone 3132 skipped: [0]\n"
     ]
    },
    {
     "name": "stderr",
     "output_type": "stream",
     "text": [
      " 27%|██▋       | 1196/4430 [01:12<01:53, 28.54it/s]"
     ]
    },
    {
     "name": "stdout",
     "output_type": "stream",
     "text": [
      "Zone 3127 skipped: [0]\n"
     ]
    },
    {
     "name": "stderr",
     "output_type": "stream",
     "text": [
      " 31%|███▏      | 1393/4430 [01:28<05:50,  8.67it/s]"
     ]
    },
    {
     "name": "stdout",
     "output_type": "stream",
     "text": [
      "Zone 3530 skipped: [0]\n"
     ]
    },
    {
     "name": "stderr",
     "output_type": "stream",
     "text": [
      " 32%|███▏      | 1417/4430 [01:30<02:32, 19.72it/s]"
     ]
    },
    {
     "name": "stdout",
     "output_type": "stream",
     "text": [
      "Zone 3391 skipped: [0]\n"
     ]
    },
    {
     "name": "stderr",
     "output_type": "stream",
     "text": [
      " 33%|███▎      | 1452/4430 [01:31<01:49, 27.11it/s]"
     ]
    },
    {
     "name": "stdout",
     "output_type": "stream",
     "text": [
      "Zone 3344 skipped: [0]\n"
     ]
    },
    {
     "name": "stderr",
     "output_type": "stream",
     "text": [
      " 34%|███▍      | 1509/4430 [01:35<01:11, 41.12it/s]"
     ]
    },
    {
     "name": "stdout",
     "output_type": "stream",
     "text": [
      "Zone 3431 skipped: [0]\n"
     ]
    },
    {
     "name": "stderr",
     "output_type": "stream",
     "text": [
      " 42%|████▏     | 1845/4430 [01:59<01:27, 29.59it/s]"
     ]
    },
    {
     "name": "stdout",
     "output_type": "stream",
     "text": [
      "Zone 3043 skipped: [0]\n",
      "Zone 3042 skipped: [0]\n",
      "Zone 3044 skipped: [0]\n"
     ]
    },
    {
     "name": "stderr",
     "output_type": "stream",
     "text": [
      " 51%|█████     | 2248/4430 [02:29<01:47, 20.35it/s]"
     ]
    },
    {
     "name": "stdout",
     "output_type": "stream",
     "text": [
      "Zone 2493 skipped: [0]\n"
     ]
    },
    {
     "name": "stderr",
     "output_type": "stream",
     "text": [
      " 56%|█████▌    | 2486/4430 [02:48<01:43, 18.81it/s]"
     ]
    },
    {
     "name": "stdout",
     "output_type": "stream",
     "text": [
      "Zone 5811 skipped: [0]\n"
     ]
    },
    {
     "name": "stderr",
     "output_type": "stream",
     "text": [
      " 58%|█████▊    | 2563/4430 [02:51<01:55, 16.23it/s]"
     ]
    },
    {
     "name": "stdout",
     "output_type": "stream",
     "text": [
      "Zone 5635 skipped: [0]\n",
      "Zone 5636 skipped: [0]\n"
     ]
    },
    {
     "name": "stderr",
     "output_type": "stream",
     "text": [
      " 58%|█████▊    | 2572/4430 [02:51<01:23, 22.30it/s]"
     ]
    },
    {
     "name": "stdout",
     "output_type": "stream",
     "text": [
      "Zone 5723 skipped: [0]\n"
     ]
    },
    {
     "name": "stderr",
     "output_type": "stream",
     "text": [
      " 59%|█████▉    | 2632/4430 [02:52<00:37, 48.20it/s]"
     ]
    },
    {
     "name": "stdout",
     "output_type": "stream",
     "text": [
      "Zone 5304 skipped: [0]\n"
     ]
    },
    {
     "name": "stderr",
     "output_type": "stream",
     "text": [
      " 60%|█████▉    | 2637/4430 [02:53<01:33, 19.08it/s]"
     ]
    },
    {
     "name": "stdout",
     "output_type": "stream",
     "text": [
      "Zone 5303 skipped: [0]\n"
     ]
    },
    {
     "name": "stderr",
     "output_type": "stream",
     "text": [
      " 60%|█████▉    | 2651/4430 [02:53<01:24, 20.98it/s]"
     ]
    },
    {
     "name": "stdout",
     "output_type": "stream",
     "text": [
      "Zone 5285 skipped: [0]\n",
      "Zone 5286 skipped: [0]\n"
     ]
    },
    {
     "name": "stderr",
     "output_type": "stream",
     "text": [
      " 61%|██████    | 2681/4430 [02:54<00:41, 42.23it/s]"
     ]
    },
    {
     "name": "stdout",
     "output_type": "stream",
     "text": [
      "Zone 5372 skipped: [0]\n"
     ]
    },
    {
     "name": "stderr",
     "output_type": "stream",
     "text": [
      " 62%|██████▏   | 2741/4430 [02:56<00:48, 35.08it/s]"
     ]
    },
    {
     "name": "stdout",
     "output_type": "stream",
     "text": [
      "Zone 5160 skipped: [0]\n"
     ]
    },
    {
     "name": "stderr",
     "output_type": "stream",
     "text": [
      " 62%|██████▏   | 2765/4430 [02:57<01:31, 18.21it/s]"
     ]
    },
    {
     "name": "stdout",
     "output_type": "stream",
     "text": [
      "Zone 5129 skipped: [0]\n",
      "Zone 5128 skipped: [0]\n"
     ]
    },
    {
     "name": "stderr",
     "output_type": "stream",
     "text": [
      " 63%|██████▎   | 2802/4430 [02:59<00:50, 32.42it/s]"
     ]
    },
    {
     "name": "stdout",
     "output_type": "stream",
     "text": [
      "Zone 5217 skipped: [0]\n",
      "Zone 5216 skipped: [0]\n",
      "Zone 5215 skipped: [0]\n"
     ]
    },
    {
     "name": "stderr",
     "output_type": "stream",
     "text": [
      " 64%|██████▎   | 2822/4430 [03:01<01:50, 14.52it/s]"
     ]
    },
    {
     "name": "stdout",
     "output_type": "stream",
     "text": [
      "Zone 5548 skipped: [0]\n"
     ]
    },
    {
     "name": "stderr",
     "output_type": "stream",
     "text": [
      " 65%|██████▌   | 2881/4430 [03:04<01:24, 18.38it/s]"
     ]
    },
    {
     "name": "stdout",
     "output_type": "stream",
     "text": [
      "Zone 5581 skipped: [0]\n"
     ]
    },
    {
     "name": "stderr",
     "output_type": "stream",
     "text": [
      " 67%|██████▋   | 2949/4430 [03:06<00:31, 47.16it/s]"
     ]
    },
    {
     "name": "stdout",
     "output_type": "stream",
     "text": [
      "Zone 5461 skipped: [0]\n"
     ]
    },
    {
     "name": "stderr",
     "output_type": "stream",
     "text": [
      " 71%|███████   | 3148/4430 [03:19<01:09, 18.52it/s]"
     ]
    },
    {
     "name": "stdout",
     "output_type": "stream",
     "text": [
      "Zone 4692 skipped: [0]\n"
     ]
    },
    {
     "name": "stderr",
     "output_type": "stream",
     "text": [
      " 72%|███████▏  | 3180/4430 [03:23<00:51, 24.15it/s]"
     ]
    },
    {
     "name": "stdout",
     "output_type": "stream",
     "text": [
      "Zone 5041 skipped: [0]\n",
      "Zone 5040 skipped: [0]\n"
     ]
    },
    {
     "name": "stderr",
     "output_type": "stream",
     "text": [
      " 75%|███████▍  | 3316/4430 [03:33<01:33, 11.95it/s]"
     ]
    },
    {
     "name": "stdout",
     "output_type": "stream",
     "text": [
      "Zone 4867 skipped: [0]\n"
     ]
    },
    {
     "name": "stderr",
     "output_type": "stream",
     "text": [
      " 76%|███████▌  | 3351/4430 [03:34<00:30, 35.20it/s]"
     ]
    },
    {
     "name": "stdout",
     "output_type": "stream",
     "text": [
      "Zone 4953 skipped: [0]\n",
      "Zone 4954 skipped: [0]\n"
     ]
    },
    {
     "name": "stderr",
     "output_type": "stream",
     "text": [
      " 77%|███████▋  | 3391/4430 [03:36<00:35, 29.50it/s]"
     ]
    },
    {
     "name": "stdout",
     "output_type": "stream",
     "text": [
      "Zone 4259 skipped: [0]\n"
     ]
    },
    {
     "name": "stderr",
     "output_type": "stream",
     "text": [
      " 77%|███████▋  | 3422/4430 [03:39<01:50,  9.14it/s]"
     ]
    },
    {
     "name": "stdout",
     "output_type": "stream",
     "text": [
      "Zone 4345 skipped: [0]\n",
      "Zone 4346 skipped: [0]\n"
     ]
    },
    {
     "name": "stderr",
     "output_type": "stream",
     "text": [
      " 81%|████████  | 3580/4430 [03:49<00:35, 24.28it/s]"
     ]
    },
    {
     "name": "stdout",
     "output_type": "stream",
     "text": [
      "Zone 4171 skipped: [0]\n"
     ]
    },
    {
     "name": "stderr",
     "output_type": "stream",
     "text": [
      " 81%|████████  | 3584/4430 [03:50<00:59, 14.14it/s]"
     ]
    },
    {
     "name": "stdout",
     "output_type": "stream",
     "text": [
      "Zone 4173 skipped: [0]\n",
      "Zone 4172 skipped: [0]\n"
     ]
    },
    {
     "name": "stderr",
     "output_type": "stream",
     "text": [
      " 82%|████████▏ | 3614/4430 [03:52<00:44, 18.29it/s]"
     ]
    },
    {
     "name": "stdout",
     "output_type": "stream",
     "text": [
      "Zone 4519 skipped: [0]\n"
     ]
    },
    {
     "name": "stderr",
     "output_type": "stream",
     "text": [
      " 86%|████████▌ | 3804/4430 [04:06<00:18, 34.11it/s]"
     ]
    },
    {
     "name": "stdout",
     "output_type": "stream",
     "text": [
      "Zone 4433 skipped: [0]\n",
      "Zone 4432 skipped: [0]\n"
     ]
    },
    {
     "name": "stderr",
     "output_type": "stream",
     "text": [
      " 87%|████████▋ | 3854/4430 [04:10<00:16, 35.13it/s]"
     ]
    },
    {
     "name": "stdout",
     "output_type": "stream",
     "text": [
      "Zone 1725 skipped: [0]\n",
      "Zone 1727 skipped: [0]\n"
     ]
    },
    {
     "name": "stderr",
     "output_type": "stream",
     "text": [
      " 90%|████████▉ | 3986/4430 [04:20<00:17, 24.93it/s]"
     ]
    },
    {
     "name": "stdout",
     "output_type": "stream",
     "text": [
      "Zone 1559 skipped: [0]\n"
     ]
    },
    {
     "name": "stderr",
     "output_type": "stream",
     "text": [
      " 91%|█████████ | 4017/4430 [04:23<00:17, 23.94it/s]"
     ]
    },
    {
     "name": "stdout",
     "output_type": "stream",
     "text": [
      "Zone 1645 skipped: [0]\n"
     ]
    },
    {
     "name": "stderr",
     "output_type": "stream",
     "text": [
      " 95%|█████████▌| 4212/4430 [04:37<00:10, 20.77it/s]"
     ]
    },
    {
     "name": "stdout",
     "output_type": "stream",
     "text": [
      "Zone 1811 skipped: [0]\n"
     ]
    },
    {
     "name": "stderr",
     "output_type": "stream",
     "text": [
      "100%|██████████| 4430/4430 [04:51<00:00, 15.22it/s]\n"
     ]
    },
    {
     "name": "stdout",
     "output_type": "stream",
     "text": [
      "[######                                  ] | 16% Completed | 24m 33ss\n"
     ]
    }
   ],
   "source": [
    "out_dir = os.path.join(PROJECT_DATA_DIR, 'OUTPUT', 'Landscape_Metrics')\n",
    "os.makedirs(out_dir, exist_ok=True)\n",
    "\n",
    "# argparse setup\n",
    "parser = argparse.ArgumentParser(description=\"Process crop landscape metrics for a given year.\")\n",
    "parser.add_argument('--year', type=int, required=True, help=\"Year of the crop type raster (e.g., 2017)\")\n",
    "args = parser.parse_args()\n",
    "\n",
    "year = args.year\n",
    "\n",
    "# Path to crop type raster (10 m resolution)\n",
    "crop_file_path = os.path.join(MAIN_DATA_DIR, 'DE_Crop_Types_2017_2021', f'DE_Crop_Type_{year}.tif')\n",
    "reprojected_raster_path = os.path.join(TEMP_DIR, f'DE_Crop_Type_{year}_EPSG_{EPSG}.tif')\n",
    "\n",
    "# Target CRS (Coordinate Reference System)\n",
    "dst_crs = f'EPSG:{EPSG}'\n",
    "\n",
    "# Open source raster\n",
    "with rio.open(crop_file_path) as src:\n",
    "    transform, width, height = calculate_default_transform(\n",
    "        src.crs, dst_crs, src.width, src.height, *src.bounds)\n",
    "    \n",
    "    kwargs = src.meta.copy()\n",
    "    kwargs.update({\n",
    "        'crs': dst_crs,\n",
    "        'transform': transform,\n",
    "        'width': width,\n",
    "        'height': height\n",
    "    })\n",
    "\n",
    "    # Write reprojected raster\n",
    "    with rio.open(reprojected_raster_path, 'w', **kwargs) as dst:\n",
    "        for i in range(1, src.count + 1):\n",
    "            reproject(\n",
    "                source=rio.band(src, i),\n",
    "                destination=rio.band(dst, i),\n",
    "                src_transform=src.transform,\n",
    "                src_crs=src.crs,\n",
    "                dst_transform=transform,\n",
    "                dst_crs=dst_crs,\n",
    "                resampling=Resampling.nearest\n",
    "            )\n",
    "            \n",
    "print('Raster Saved Successfully!')\n",
    "\n",
    "# Collect valid zone indices\n",
    "valid_indices = []\n",
    "\n",
    "with rio.open(reprojected_raster_path) as src:\n",
    "    for idx, row in tqdm(grids_gdf.iterrows(), total=len(grids_gdf)):\n",
    "        try:\n",
    "            mask, transform = rio.mask.mask(src, [row['geometry']], crop=True)\n",
    "            unique_vals = np.unique(mask)\n",
    "            if len(unique_vals) <= 1:  # Only background or no-data\n",
    "                print(f\"Zone {row['id']} skipped: {unique_vals}\")\n",
    "                continue\n",
    "            valid_indices.append(idx)\n",
    "        except Exception as e:\n",
    "            print(f\"Zone {row['id']} caused error: {e}\")\n",
    "            continue\n",
    "\n",
    "# Filter the GeoDataFrame\n",
    "grids_gdf = grids_gdf.loc[valid_indices].copy()\n",
    "\n",
    "# Create ZonalAnalysis object for computing crop metrics per grid zone\n",
    "za = pls.ZonalAnalysis(\n",
    "    reprojected_raster_path,  # Use the reprojected raster\n",
    "    zones=grids_gdf,\n",
    "    zone_index='id',\n",
    "    neighborhood_rule=8       # 8-neighbor connectivity for landscape pattern analysis\n",
    ")\n",
    "\n",
    "# # Compute class-level metrics (per crop type) for each zone\n",
    "# class_metrics_df = za.compute_class_metrics_df().reset_index()\n",
    "# class_metrics_df.to_csv(os.path.join(out_dir, f'crop_class_metrics_{year}.csv'), index=False)\n",
    "\n",
    "# Compute landscape-level metrics (overall structure) for each zone\n",
    "landscape_metrics_df = za.compute_landscape_metrics_df().reset_index()\n",
    "# landscape_metrics_df.to_csv(os.path.join(out_dir, f'crop_landscape_metrics_{year}.csv'), index=False)\n",
    "\n",
    "print('Crop metrics computation complete!')"
   ]
  },
  {
   "cell_type": "markdown",
   "id": "08eccf5c-aa26-4e7c-a518-4e2f6e9b8616",
   "metadata": {},
   "source": [
    "## Compute Crop Intensity using Rasterstats"
   ]
  },
  {
   "cell_type": "code",
   "execution_count": 27,
   "id": "151ace79-2564-440c-91e0-2183fe962422",
   "metadata": {},
   "outputs": [
    {
     "name": "stdout",
     "output_type": "stream",
     "text": [
      "Raster Saved Successfully!\n"
     ]
    },
    {
     "name": "stderr",
     "output_type": "stream",
     "text": [
      "  1%|          | 41/4430 [00:06<05:26, 13.43it/s]"
     ]
    },
    {
     "name": "stdout",
     "output_type": "stream",
     "text": [
      "Zone 1456 skipped: [0]\n"
     ]
    },
    {
     "name": "stderr",
     "output_type": "stream",
     "text": [
      "  3%|▎         | 137/4430 [00:13<02:42, 26.42it/s]"
     ]
    },
    {
     "name": "stdout",
     "output_type": "stream",
     "text": [
      "Zone 1493 skipped: [0]\n",
      "Zone 1473 skipped: [0]\n"
     ]
    },
    {
     "name": "stderr",
     "output_type": "stream",
     "text": [
      "  4%|▍         | 171/4430 [00:14<01:47, 39.77it/s]"
     ]
    },
    {
     "name": "stdout",
     "output_type": "stream",
     "text": [
      "Zone 1319 skipped: [0]\n",
      "Zone 1299 skipped: [0]\n"
     ]
    },
    {
     "name": "stderr",
     "output_type": "stream",
     "text": [
      "  4%|▍         | 181/4430 [00:14<01:41, 41.72it/s]"
     ]
    },
    {
     "name": "stdout",
     "output_type": "stream",
     "text": [
      "Zone 1284 skipped: [0]\n",
      "Zone 1402 skipped: [0]\n"
     ]
    },
    {
     "name": "stderr",
     "output_type": "stream",
     "text": [
      "  4%|▍         | 191/4430 [00:14<02:06, 33.47it/s]"
     ]
    },
    {
     "name": "stdout",
     "output_type": "stream",
     "text": [
      "Zone 1385 skipped: [0]\n",
      "Zone 1386 skipped: [0]\n"
     ]
    },
    {
     "name": "stderr",
     "output_type": "stream",
     "text": [
      "  5%|▍         | 206/4430 [00:15<01:46, 39.85it/s]"
     ]
    },
    {
     "name": "stdout",
     "output_type": "stream",
     "text": [
      "Zone 1369 skipped: [0]\n",
      "Zone 1368 skipped: [0]\n"
     ]
    },
    {
     "name": "stderr",
     "output_type": "stream",
     "text": [
      "  7%|▋         | 306/4430 [00:17<01:34, 43.78it/s]"
     ]
    },
    {
     "name": "stdout",
     "output_type": "stream",
     "text": [
      "Zone 713 skipped: [0]\n",
      "Zone 712 skipped: [0]\n"
     ]
    },
    {
     "name": "stderr",
     "output_type": "stream",
     "text": [
      "  7%|▋         | 331/4430 [00:18<01:32, 44.41it/s]"
     ]
    },
    {
     "name": "stdout",
     "output_type": "stream",
     "text": [
      "Zone 625 skipped: [0]\n"
     ]
    },
    {
     "name": "stderr",
     "output_type": "stream",
     "text": [
      " 11%|█         | 466/4430 [00:21<01:29, 44.28it/s]"
     ]
    },
    {
     "name": "stdout",
     "output_type": "stream",
     "text": [
      "Zone 799 skipped: [0]\n",
      "Zone 798 skipped: [0]\n",
      "Zone 886 skipped: [0]\n"
     ]
    },
    {
     "name": "stderr",
     "output_type": "stream",
     "text": [
      " 11%|█▏        | 506/4430 [00:22<01:28, 44.17it/s]"
     ]
    },
    {
     "name": "stdout",
     "output_type": "stream",
     "text": [
      "Zone 225 skipped: [0]\n",
      "Zone 224 skipped: [0]\n"
     ]
    },
    {
     "name": "stderr",
     "output_type": "stream",
     "text": [
      " 12%|█▏        | 516/4430 [00:22<01:28, 44.07it/s]"
     ]
    },
    {
     "name": "stdout",
     "output_type": "stream",
     "text": [
      "Zone 223 skipped: [0]\n"
     ]
    },
    {
     "name": "stderr",
     "output_type": "stream",
     "text": [
      " 13%|█▎        | 596/4430 [00:24<01:27, 44.01it/s]"
     ]
    },
    {
     "name": "stdout",
     "output_type": "stream",
     "text": [
      "Zone 312 skipped: [0]\n"
     ]
    },
    {
     "name": "stderr",
     "output_type": "stream",
     "text": [
      " 15%|█▍        | 644/4430 [00:25<03:12, 19.65it/s]"
     ]
    },
    {
     "name": "stdout",
     "output_type": "stream",
     "text": [
      "Zone 3737 skipped: [0]\n",
      "Zone 3739 skipped: [0]\n"
     ]
    },
    {
     "name": "stderr",
     "output_type": "stream",
     "text": [
      " 15%|█▍        | 647/4430 [00:26<03:29, 18.04it/s]"
     ]
    },
    {
     "name": "stdout",
     "output_type": "stream",
     "text": [
      "Zone 3738 skipped: [0]\n"
     ]
    },
    {
     "name": "stderr",
     "output_type": "stream",
     "text": [
      " 15%|█▌        | 681/4430 [00:27<01:50, 34.01it/s]"
     ]
    },
    {
     "name": "stdout",
     "output_type": "stream",
     "text": [
      "Zone 3826 skipped: [0]\n",
      "Zone 3823 skipped: [0]\n"
     ]
    },
    {
     "name": "stderr",
     "output_type": "stream",
     "text": [
      " 16%|█▋        | 721/4430 [00:28<01:27, 42.46it/s]"
     ]
    },
    {
     "name": "stdout",
     "output_type": "stream",
     "text": [
      "Zone 3791 skipped: [0]\n"
     ]
    },
    {
     "name": "stderr",
     "output_type": "stream",
     "text": [
      " 18%|█▊        | 791/4430 [00:29<01:23, 43.55it/s]"
     ]
    },
    {
     "name": "stdout",
     "output_type": "stream",
     "text": [
      "Zone 3705 skipped: [0]\n"
     ]
    },
    {
     "name": "stderr",
     "output_type": "stream",
     "text": [
      " 19%|█▉        | 841/4430 [00:31<02:10, 27.60it/s]"
     ]
    },
    {
     "name": "stdout",
     "output_type": "stream",
     "text": [
      "Zone 3649 skipped: [0]\n",
      "Zone 3651 skipped: [0]\n",
      "Zone 3650 skipped: [0]\n"
     ]
    },
    {
     "name": "stderr",
     "output_type": "stream",
     "text": [
      " 20%|█▉        | 866/4430 [00:31<01:30, 39.59it/s]"
     ]
    },
    {
     "name": "stdout",
     "output_type": "stream",
     "text": [
      "Zone 4000 skipped: [0]\n",
      "Zone 3997 skipped: [0]\n",
      "Zone 3999 skipped: [0]\n",
      "Zone 3998 skipped: [0]\n"
     ]
    },
    {
     "name": "stderr",
     "output_type": "stream",
     "text": [
      " 20%|██        | 901/4430 [00:32<01:22, 42.94it/s]"
     ]
    },
    {
     "name": "stdout",
     "output_type": "stream",
     "text": [
      "Zone 4085 skipped: [0]\n",
      "Zone 4084 skipped: [0]\n",
      "Zone 4087 skipped: [0]\n",
      "Zone 4086 skipped: [0]\n"
     ]
    },
    {
     "name": "stderr",
     "output_type": "stream",
     "text": [
      " 24%|██▍       | 1061/4430 [00:36<01:17, 43.35it/s]"
     ]
    },
    {
     "name": "stdout",
     "output_type": "stream",
     "text": [
      "Zone 3913 skipped: [0]\n",
      "Zone 3912 skipped: [0]\n",
      "Zone 3911 skipped: [0]\n"
     ]
    },
    {
     "name": "stderr",
     "output_type": "stream",
     "text": [
      " 24%|██▍       | 1071/4430 [00:36<01:17, 43.22it/s]"
     ]
    },
    {
     "name": "stdout",
     "output_type": "stream",
     "text": [
      "Zone 3256 skipped: [0]\n"
     ]
    },
    {
     "name": "stderr",
     "output_type": "stream",
     "text": [
      " 25%|██▍       | 1086/4430 [00:36<01:17, 42.94it/s]"
     ]
    },
    {
     "name": "stdout",
     "output_type": "stream",
     "text": [
      "Zone 3255 skipped: [0]\n"
     ]
    },
    {
     "name": "stderr",
     "output_type": "stream",
     "text": [
      " 25%|██▍       | 1101/4430 [00:37<01:49, 30.46it/s]"
     ]
    },
    {
     "name": "stdout",
     "output_type": "stream",
     "text": [
      "Zone 3217 skipped: [0]\n",
      "Zone 3216 skipped: [0]\n",
      "Zone 3219 skipped: [0]\n"
     ]
    },
    {
     "name": "stderr",
     "output_type": "stream",
     "text": [
      " 25%|██▌       | 1110/4430 [00:37<01:55, 28.83it/s]"
     ]
    },
    {
     "name": "stdout",
     "output_type": "stream",
     "text": [
      "Zone 3218 skipped: [0]\n",
      "Zone 3215 skipped: [0]\n",
      "Zone 3214 skipped: [0]\n"
     ]
    },
    {
     "name": "stderr",
     "output_type": "stream",
     "text": [
      " 26%|██▌       | 1140/4430 [00:38<01:20, 41.10it/s]"
     ]
    },
    {
     "name": "stdout",
     "output_type": "stream",
     "text": [
      "Zone 3305 skipped: [0]\n",
      "Zone 3304 skipped: [0]\n",
      "Zone 3301 skipped: [0]\n",
      "Zone 3300 skipped: [0]\n",
      "Zone 3303 skipped: [0]\n"
     ]
    },
    {
     "name": "stderr",
     "output_type": "stream",
     "text": [
      " 26%|██▌       | 1150/4430 [00:38<01:18, 41.92it/s]"
     ]
    },
    {
     "name": "stdout",
     "output_type": "stream",
     "text": [
      "Zone 3302 skipped: [0]\n"
     ]
    },
    {
     "name": "stderr",
     "output_type": "stream",
     "text": [
      " 27%|██▋       | 1180/4430 [00:39<01:16, 42.62it/s]"
     ]
    },
    {
     "name": "stdout",
     "output_type": "stream",
     "text": [
      "Zone 3266 skipped: [0]\n",
      "Zone 3129 skipped: [0]\n",
      "Zone 3128 skipped: [0]\n",
      "Zone 3131 skipped: [0]\n",
      "Zone 3130 skipped: [0]\n"
     ]
    },
    {
     "name": "stderr",
     "output_type": "stream",
     "text": [
      " 27%|██▋       | 1185/4430 [00:39<01:31, 35.60it/s]"
     ]
    },
    {
     "name": "stdout",
     "output_type": "stream",
     "text": [
      "Zone 3132 skipped: [0]\n",
      "Zone 3127 skipped: [0]\n",
      "Zone 3126 skipped: [0]\n"
     ]
    },
    {
     "name": "stderr",
     "output_type": "stream",
     "text": [
      " 28%|██▊       | 1230/4430 [00:40<01:15, 42.53it/s]"
     ]
    },
    {
     "name": "stdout",
     "output_type": "stream",
     "text": [
      "Zone 3081 skipped: [0]\n"
     ]
    },
    {
     "name": "stderr",
     "output_type": "stream",
     "text": [
      " 28%|██▊       | 1260/4430 [00:41<01:13, 42.94it/s]"
     ]
    },
    {
     "name": "stdout",
     "output_type": "stream",
     "text": [
      "Zone 3179 skipped: [0]\n",
      "Zone 3169 skipped: [0]\n",
      "Zone 3168 skipped: [0]\n"
     ]
    },
    {
     "name": "stderr",
     "output_type": "stream",
     "text": [
      " 30%|███       | 1340/4430 [00:43<01:24, 36.61it/s]"
     ]
    },
    {
     "name": "stdout",
     "output_type": "stream",
     "text": [
      "Zone 3475 skipped: [0]\n",
      "Zone 3476 skipped: [0]\n"
     ]
    },
    {
     "name": "stderr",
     "output_type": "stream",
     "text": [
      " 31%|███       | 1360/4430 [00:43<01:14, 41.48it/s]"
     ]
    },
    {
     "name": "stdout",
     "output_type": "stream",
     "text": [
      "Zone 3576 skipped: [0]\n"
     ]
    },
    {
     "name": "stderr",
     "output_type": "stream",
     "text": [
      " 31%|███       | 1370/4430 [00:44<01:12, 42.50it/s]"
     ]
    },
    {
     "name": "stdout",
     "output_type": "stream",
     "text": [
      "Zone 3563 skipped: [0]\n",
      "Zone 3562 skipped: [0]\n",
      "Zone 3564 skipped: [0]\n"
     ]
    },
    {
     "name": "stderr",
     "output_type": "stream",
     "text": [
      " 32%|███▏      | 1400/4430 [00:44<01:11, 42.36it/s]"
     ]
    },
    {
     "name": "stdout",
     "output_type": "stream",
     "text": [
      "Zone 3530 skipped: [0]\n"
     ]
    },
    {
     "name": "stderr",
     "output_type": "stream",
     "text": [
      " 32%|███▏      | 1415/4430 [00:45<01:09, 43.11it/s]"
     ]
    },
    {
     "name": "stdout",
     "output_type": "stream",
     "text": [
      "Zone 3389 skipped: [0]\n",
      "Zone 3391 skipped: [0]\n",
      "Zone 3390 skipped: [0]\n"
     ]
    },
    {
     "name": "stderr",
     "output_type": "stream",
     "text": [
      " 33%|███▎      | 1445/4430 [00:45<01:08, 43.50it/s]"
     ]
    },
    {
     "name": "stdout",
     "output_type": "stream",
     "text": [
      "Zone 3354 skipped: [0]\n",
      "Zone 3344 skipped: [0]\n"
     ]
    },
    {
     "name": "stderr",
     "output_type": "stream",
     "text": [
      " 34%|███▎      | 1485/4430 [00:46<01:07, 43.55it/s]"
     ]
    },
    {
     "name": "stdout",
     "output_type": "stream",
     "text": [
      "Zone 3442 skipped: [0]\n"
     ]
    },
    {
     "name": "stderr",
     "output_type": "stream",
     "text": [
      " 34%|███▍      | 1505/4430 [00:47<01:07, 43.51it/s]"
     ]
    },
    {
     "name": "stdout",
     "output_type": "stream",
     "text": [
      "Zone 3431 skipped: [0]\n"
     ]
    },
    {
     "name": "stderr",
     "output_type": "stream",
     "text": [
      " 41%|████      | 1819/4430 [00:54<00:59, 43.55it/s]"
     ]
    },
    {
     "name": "stdout",
     "output_type": "stream",
     "text": [
      "Zone 2955 skipped: [0]\n",
      "Zone 2954 skipped: [0]\n"
     ]
    },
    {
     "name": "stderr",
     "output_type": "stream",
     "text": [
      " 42%|████▏     | 1849/4430 [00:55<00:59, 43.56it/s]"
     ]
    },
    {
     "name": "stdout",
     "output_type": "stream",
     "text": [
      "Zone 3041 skipped: [0]\n",
      "Zone 3043 skipped: [0]\n",
      "Zone 3042 skipped: [0]\n",
      "Zone 3044 skipped: [0]\n"
     ]
    },
    {
     "name": "stderr",
     "output_type": "stream",
     "text": [
      " 43%|████▎     | 1884/4430 [00:56<00:58, 43.53it/s]"
     ]
    },
    {
     "name": "stdout",
     "output_type": "stream",
     "text": [
      "Zone 2875 skipped: [0]\n",
      "Zone 2876 skipped: [0]\n",
      "Zone 2868 skipped: [0]\n"
     ]
    },
    {
     "name": "stderr",
     "output_type": "stream",
     "text": [
      " 51%|█████     | 2249/4430 [01:04<00:50, 43.16it/s]"
     ]
    },
    {
     "name": "stdout",
     "output_type": "stream",
     "text": [
      "Zone 2493 skipped: [0]\n",
      "Zone 2494 skipped: [0]\n"
     ]
    },
    {
     "name": "stderr",
     "output_type": "stream",
     "text": [
      " 56%|█████▌    | 2484/4430 [01:10<00:44, 43.29it/s]"
     ]
    },
    {
     "name": "stdout",
     "output_type": "stream",
     "text": [
      "Zone 5811 skipped: [0]\n"
     ]
    },
    {
     "name": "stderr",
     "output_type": "stream",
     "text": [
      " 58%|█████▊    | 2564/4430 [01:12<00:42, 43.74it/s]"
     ]
    },
    {
     "name": "stdout",
     "output_type": "stream",
     "text": [
      "Zone 5668 skipped: [0]\n",
      "Zone 5635 skipped: [0]\n",
      "Zone 5636 skipped: [0]\n"
     ]
    },
    {
     "name": "stderr",
     "output_type": "stream",
     "text": [
      " 58%|█████▊    | 2574/4430 [01:12<00:42, 43.94it/s]"
     ]
    },
    {
     "name": "stdout",
     "output_type": "stream",
     "text": [
      "Zone 5723 skipped: [0]\n"
     ]
    },
    {
     "name": "stderr",
     "output_type": "stream",
     "text": [
      " 58%|█████▊    | 2584/4430 [01:12<00:42, 43.78it/s]"
     ]
    },
    {
     "name": "stdout",
     "output_type": "stream",
     "text": [
      "Zone 6048 skipped: [0]\n"
     ]
    },
    {
     "name": "stderr",
     "output_type": "stream",
     "text": [
      " 59%|█████▉    | 2604/4430 [01:13<00:41, 43.89it/s]"
     ]
    },
    {
     "name": "stdout",
     "output_type": "stream",
     "text": [
      "Zone 6136 skipped: [0]\n"
     ]
    },
    {
     "name": "stderr",
     "output_type": "stream",
     "text": [
      " 60%|█████▉    | 2639/4430 [01:13<00:40, 44.18it/s]"
     ]
    },
    {
     "name": "stdout",
     "output_type": "stream",
     "text": [
      "Zone 5304 skipped: [0]\n",
      "Zone 5303 skipped: [0]\n"
     ]
    },
    {
     "name": "stderr",
     "output_type": "stream",
     "text": [
      " 60%|█████▉    | 2654/4430 [01:14<00:41, 43.08it/s]"
     ]
    },
    {
     "name": "stdout",
     "output_type": "stream",
     "text": [
      "Zone 5285 skipped: [0]\n",
      "Zone 5286 skipped: [0]\n"
     ]
    },
    {
     "name": "stderr",
     "output_type": "stream",
     "text": [
      " 60%|██████    | 2679/4430 [01:14<00:40, 43.62it/s]"
     ]
    },
    {
     "name": "stdout",
     "output_type": "stream",
     "text": [
      "Zone 5372 skipped: [0]\n"
     ]
    },
    {
     "name": "stderr",
     "output_type": "stream",
     "text": [
      " 61%|██████▏   | 2719/4430 [01:15<00:39, 43.40it/s]"
     ]
    },
    {
     "name": "stdout",
     "output_type": "stream",
     "text": [
      "Zone 5315 skipped: [0]\n"
     ]
    },
    {
     "name": "stderr",
     "output_type": "stream",
     "text": [
      " 62%|██████▏   | 2729/4430 [01:15<00:38, 43.83it/s]"
     ]
    },
    {
     "name": "stdout",
     "output_type": "stream",
     "text": [
      "Zone 5183 skipped: [0]\n"
     ]
    },
    {
     "name": "stderr",
     "output_type": "stream",
     "text": [
      " 62%|██████▏   | 2739/4430 [01:16<00:38, 43.78it/s]"
     ]
    },
    {
     "name": "stdout",
     "output_type": "stream",
     "text": [
      "Zone 5160 skipped: [0]\n"
     ]
    },
    {
     "name": "stderr",
     "output_type": "stream",
     "text": [
      " 63%|██████▎   | 2769/4430 [01:16<00:38, 43.70it/s]"
     ]
    },
    {
     "name": "stdout",
     "output_type": "stream",
     "text": [
      "Zone 5129 skipped: [0]\n",
      "Zone 5128 skipped: [0]\n"
     ]
    },
    {
     "name": "stderr",
     "output_type": "stream",
     "text": [
      " 63%|██████▎   | 2794/4430 [01:17<00:37, 44.00it/s]"
     ]
    },
    {
     "name": "stdout",
     "output_type": "stream",
     "text": [
      "Zone 5225 skipped: [0]\n",
      "Zone 5229 skipped: [0]\n",
      "Zone 5217 skipped: [0]\n",
      "Zone 5216 skipped: [0]\n"
     ]
    },
    {
     "name": "stderr",
     "output_type": "stream",
     "text": [
      " 63%|██████▎   | 2809/4430 [01:17<00:37, 43.77it/s]"
     ]
    },
    {
     "name": "stdout",
     "output_type": "stream",
     "text": [
      "Zone 5215 skipped: [0]\n",
      "Zone 5214 skipped: [0]\n"
     ]
    },
    {
     "name": "stderr",
     "output_type": "stream",
     "text": [
      " 64%|██████▎   | 2824/4430 [01:18<00:36, 44.13it/s]"
     ]
    },
    {
     "name": "stdout",
     "output_type": "stream",
     "text": [
      "Zone 5548 skipped: [0]\n"
     ]
    },
    {
     "name": "stderr",
     "output_type": "stream",
     "text": [
      " 65%|██████▌   | 2884/4430 [01:19<00:34, 44.28it/s]"
     ]
    },
    {
     "name": "stdout",
     "output_type": "stream",
     "text": [
      "Zone 5579 skipped: [0]\n",
      "Zone 5581 skipped: [0]\n"
     ]
    },
    {
     "name": "stderr",
     "output_type": "stream",
     "text": [
      " 66%|██████▌   | 2914/4430 [01:20<00:34, 44.21it/s]"
     ]
    },
    {
     "name": "stdout",
     "output_type": "stream",
     "text": [
      "Zone 5423 skipped: [0]\n"
     ]
    },
    {
     "name": "stderr",
     "output_type": "stream",
     "text": [
      " 66%|██████▌   | 2924/4430 [01:20<00:34, 44.13it/s]"
     ]
    },
    {
     "name": "stdout",
     "output_type": "stream",
     "text": [
      "Zone 5402 skipped: [0]\n",
      "Zone 5404 skipped: [0]\n"
     ]
    },
    {
     "name": "stderr",
     "output_type": "stream",
     "text": [
      " 67%|██████▋   | 2954/4430 [01:21<00:33, 43.75it/s]"
     ]
    },
    {
     "name": "stdout",
     "output_type": "stream",
     "text": [
      "Zone 5461 skipped: [0]\n",
      "Zone 5460 skipped: [0]\n"
     ]
    },
    {
     "name": "stderr",
     "output_type": "stream",
     "text": [
      " 67%|██████▋   | 2969/4430 [01:21<00:33, 43.56it/s]"
     ]
    },
    {
     "name": "stdout",
     "output_type": "stream",
     "text": [
      "Zone 4789 skipped: [0]\n",
      "Zone 4790 skipped: [0]\n",
      "Zone 4780 skipped: [0]\n"
     ]
    },
    {
     "name": "stderr",
     "output_type": "stream",
     "text": [
      " 68%|██████▊   | 3004/4430 [01:22<00:33, 42.48it/s]"
     ]
    },
    {
     "name": "stdout",
     "output_type": "stream",
     "text": [
      "Zone 4750 skipped: [0]\n"
     ]
    },
    {
     "name": "stderr",
     "output_type": "stream",
     "text": [
      " 68%|██████▊   | 3034/4430 [01:22<00:32, 43.21it/s]"
     ]
    },
    {
     "name": "stdout",
     "output_type": "stream",
     "text": [
      "Zone 4836 skipped: [0]\n"
     ]
    },
    {
     "name": "stderr",
     "output_type": "stream",
     "text": [
      " 70%|██████▉   | 3079/4430 [01:23<00:31, 43.45it/s]"
     ]
    },
    {
     "name": "stdout",
     "output_type": "stream",
     "text": [
      "Zone 4662 skipped: [0]\n"
     ]
    },
    {
     "name": "stderr",
     "output_type": "stream",
     "text": [
      " 70%|███████   | 3114/4430 [01:24<00:29, 44.03it/s]"
     ]
    },
    {
     "name": "stdout",
     "output_type": "stream",
     "text": [
      "Zone 4617 skipped: [0]\n"
     ]
    },
    {
     "name": "stderr",
     "output_type": "stream",
     "text": [
      " 71%|███████   | 3154/4430 [01:25<00:29, 43.51it/s]"
     ]
    },
    {
     "name": "stdout",
     "output_type": "stream",
     "text": [
      "Zone 4693 skipped: [0]\n",
      "Zone 4692 skipped: [0]\n"
     ]
    },
    {
     "name": "stderr",
     "output_type": "stream",
     "text": [
      " 72%|███████▏  | 3179/4430 [01:26<00:28, 43.63it/s]"
     ]
    },
    {
     "name": "stdout",
     "output_type": "stream",
     "text": [
      "Zone 5041 skipped: [0]\n",
      "Zone 5040 skipped: [0]\n"
     ]
    },
    {
     "name": "stderr",
     "output_type": "stream",
     "text": [
      " 72%|███████▏  | 3199/4430 [01:26<00:28, 43.44it/s]"
     ]
    },
    {
     "name": "stdout",
     "output_type": "stream",
     "text": [
      "Zone 5010 skipped: [0]\n"
     ]
    },
    {
     "name": "stderr",
     "output_type": "stream",
     "text": [
      " 73%|███████▎  | 3229/4430 [01:27<00:27, 43.70it/s]"
     ]
    },
    {
     "name": "stdout",
     "output_type": "stream",
     "text": [
      "Zone 5097 skipped: [0]\n"
     ]
    },
    {
     "name": "stderr",
     "output_type": "stream",
     "text": [
      " 73%|███████▎  | 3249/4430 [01:27<00:26, 44.49it/s]"
     ]
    },
    {
     "name": "stdout",
     "output_type": "stream",
     "text": [
      "Zone 5074 skipped: [0]\n"
     ]
    },
    {
     "name": "stderr",
     "output_type": "stream",
     "text": [
      " 75%|███████▌  | 3324/4430 [01:29<00:24, 44.33it/s]"
     ]
    },
    {
     "name": "stdout",
     "output_type": "stream",
     "text": [
      "Zone 4867 skipped: [0]\n"
     ]
    },
    {
     "name": "stderr",
     "output_type": "stream",
     "text": [
      " 76%|███████▌  | 3354/4430 [01:30<00:24, 43.46it/s]"
     ]
    },
    {
     "name": "stdout",
     "output_type": "stream",
     "text": [
      "Zone 4953 skipped: [0]\n",
      "Zone 4954 skipped: [0]\n"
     ]
    },
    {
     "name": "stderr",
     "output_type": "stream",
     "text": [
      " 77%|███████▋  | 3389/4430 [01:31<00:24, 42.89it/s]"
     ]
    },
    {
     "name": "stdout",
     "output_type": "stream",
     "text": [
      "Zone 4271 skipped: [0]\n",
      "Zone 4259 skipped: [0]\n",
      "Zone 4258 skipped: [0]\n"
     ]
    },
    {
     "name": "stderr",
     "output_type": "stream",
     "text": [
      " 77%|███████▋  | 3424/4430 [01:31<00:23, 42.89it/s]"
     ]
    },
    {
     "name": "stdout",
     "output_type": "stream",
     "text": [
      "Zone 4345 skipped: [0]\n",
      "Zone 4344 skipped: [0]\n",
      "Zone 4346 skipped: [0]\n"
     ]
    },
    {
     "name": "stderr",
     "output_type": "stream",
     "text": [
      " 81%|████████  | 3589/4430 [01:35<00:19, 43.49it/s]"
     ]
    },
    {
     "name": "stdout",
     "output_type": "stream",
     "text": [
      "Zone 4171 skipped: [0]\n",
      "Zone 4170 skipped: [0]\n",
      "Zone 4173 skipped: [0]\n",
      "Zone 4172 skipped: [0]\n"
     ]
    },
    {
     "name": "stderr",
     "output_type": "stream",
     "text": [
      " 82%|████████▏ | 3619/4430 [01:36<00:18, 43.18it/s]"
     ]
    },
    {
     "name": "stdout",
     "output_type": "stream",
     "text": [
      "Zone 4519 skipped: [0]\n"
     ]
    },
    {
     "name": "stderr",
     "output_type": "stream",
     "text": [
      " 83%|████████▎ | 3659/4430 [01:37<00:17, 43.38it/s]"
     ]
    },
    {
     "name": "stdout",
     "output_type": "stream",
     "text": [
      "Zone 4607 skipped: [0]\n"
     ]
    },
    {
     "name": "stderr",
     "output_type": "stream",
     "text": [
      " 85%|████████▌ | 3774/4430 [01:39<00:14, 44.19it/s]"
     ]
    },
    {
     "name": "stdout",
     "output_type": "stream",
     "text": [
      "Zone 4357 skipped: [0]\n"
     ]
    },
    {
     "name": "stderr",
     "output_type": "stream",
     "text": [
      " 86%|████████▌ | 3809/4430 [01:40<00:14, 44.05it/s]"
     ]
    },
    {
     "name": "stdout",
     "output_type": "stream",
     "text": [
      "Zone 4443 skipped: [0]\n",
      "Zone 4433 skipped: [0]\n",
      "Zone 4432 skipped: [0]\n"
     ]
    },
    {
     "name": "stderr",
     "output_type": "stream",
     "text": [
      " 87%|████████▋ | 3859/4430 [01:41<00:13, 43.12it/s]"
     ]
    },
    {
     "name": "stdout",
     "output_type": "stream",
     "text": [
      "Zone 1723 skipped: [0]\n",
      "Zone 1725 skipped: [0]\n",
      "Zone 1724 skipped: [0]\n",
      "Zone 1727 skipped: [0]\n",
      "Zone 1726 skipped: [0]\n"
     ]
    },
    {
     "name": "stderr",
     "output_type": "stream",
     "text": [
      " 89%|████████▉ | 3944/4430 [01:43<00:11, 43.88it/s]"
     ]
    },
    {
     "name": "stdout",
     "output_type": "stream",
     "text": [
      "Zone 1753 skipped: [0]\n"
     ]
    },
    {
     "name": "stderr",
     "output_type": "stream",
     "text": [
      " 89%|████████▉ | 3954/4430 [01:44<00:13, 34.19it/s]"
     ]
    },
    {
     "name": "stdout",
     "output_type": "stream",
     "text": [
      "Zone 1741 skipped: [0]\n"
     ]
    },
    {
     "name": "stderr",
     "output_type": "stream",
     "text": [
      " 90%|████████▉ | 3979/4430 [01:44<00:10, 41.90it/s]"
     ]
    },
    {
     "name": "stdout",
     "output_type": "stream",
     "text": [
      "Zone 1582 skipped: [0]\n",
      "Zone 1560 skipped: [0]\n"
     ]
    },
    {
     "name": "stderr",
     "output_type": "stream",
     "text": [
      " 90%|█████████ | 3989/4430 [01:44<00:10, 42.81it/s]"
     ]
    },
    {
     "name": "stdout",
     "output_type": "stream",
     "text": [
      "Zone 1559 skipped: [0]\n"
     ]
    },
    {
     "name": "stderr",
     "output_type": "stream",
     "text": [
      " 90%|█████████ | 4009/4430 [01:45<00:09, 43.39it/s]"
     ]
    },
    {
     "name": "stdout",
     "output_type": "stream",
     "text": [
      "Zone 1542 skipped: [0]\n",
      "Zone 1657 skipped: [0]\n",
      "Zone 1656 skipped: [0]\n",
      "Zone 1655 skipped: [0]\n",
      "Zone 1640 skipped: [0]\n"
     ]
    },
    {
     "name": "stderr",
     "output_type": "stream",
     "text": [
      " 91%|█████████ | 4019/4430 [01:45<00:09, 43.86it/s]"
     ]
    },
    {
     "name": "stdout",
     "output_type": "stream",
     "text": [
      "Zone 1645 skipped: [0]\n"
     ]
    },
    {
     "name": "stderr",
     "output_type": "stream",
     "text": [
      " 91%|█████████ | 4029/4430 [01:45<00:09, 43.64it/s]"
     ]
    },
    {
     "name": "stdout",
     "output_type": "stream",
     "text": [
      "Zone 1639 skipped: [0]\n",
      "Zone 1638 skipped: [0]\n"
     ]
    },
    {
     "name": "stderr",
     "output_type": "stream",
     "text": [
      " 91%|█████████▏| 4049/4430 [01:46<00:08, 44.23it/s]"
     ]
    },
    {
     "name": "stdout",
     "output_type": "stream",
     "text": [
      "Zone 1611 skipped: [0]\n"
     ]
    },
    {
     "name": "stderr",
     "output_type": "stream",
     "text": [
      " 93%|█████████▎| 4124/4430 [01:48<00:07, 43.54it/s]"
     ]
    },
    {
     "name": "stdout",
     "output_type": "stream",
     "text": [
      "Zone 1927 skipped: [0]\n",
      "Zone 1926 skipped: [0]\n"
     ]
    },
    {
     "name": "stderr",
     "output_type": "stream",
     "text": [
      " 94%|█████████▍| 4159/4430 [01:48<00:06, 43.80it/s]"
     ]
    },
    {
     "name": "stdout",
     "output_type": "stream",
     "text": [
      "Zone 2012 skipped: [0]\n",
      "Zone 2014 skipped: [0]\n",
      "Zone 2006 skipped: [0]\n"
     ]
    },
    {
     "name": "stderr",
     "output_type": "stream",
     "text": [
      " 95%|█████████▍| 4189/4430 [01:49<00:05, 43.26it/s]"
     ]
    },
    {
     "name": "stdout",
     "output_type": "stream",
     "text": [
      "Zone 1840 skipped: [0]\n",
      "Zone 1832 skipped: [0]\n"
     ]
    },
    {
     "name": "stderr",
     "output_type": "stream",
     "text": [
      " 95%|█████████▍| 4199/4430 [01:49<00:05, 43.68it/s]"
     ]
    },
    {
     "name": "stdout",
     "output_type": "stream",
     "text": [
      "Zone 1834 skipped: [0]\n",
      "Zone 1839 skipped: [0]\n"
     ]
    },
    {
     "name": "stderr",
     "output_type": "stream",
     "text": [
      " 95%|█████████▌| 4214/4430 [01:50<00:04, 44.04it/s]"
     ]
    },
    {
     "name": "stdout",
     "output_type": "stream",
     "text": [
      "Zone 1811 skipped: [0]\n"
     ]
    },
    {
     "name": "stderr",
     "output_type": "stream",
     "text": [
      " 96%|█████████▌| 4239/4430 [01:50<00:04, 43.86it/s]"
     ]
    },
    {
     "name": "stdout",
     "output_type": "stream",
     "text": [
      "Zone 1919 skipped: [0]\n"
     ]
    },
    {
     "name": "stderr",
     "output_type": "stream",
     "text": [
      " 96%|█████████▌| 4249/4430 [01:50<00:04, 43.86it/s]"
     ]
    },
    {
     "name": "stdout",
     "output_type": "stream",
     "text": [
      "Zone 1897 skipped: [0]\n"
     ]
    },
    {
     "name": "stderr",
     "output_type": "stream",
     "text": [
      " 97%|█████████▋| 4289/4430 [01:51<00:03, 43.57it/s]"
     ]
    },
    {
     "name": "stdout",
     "output_type": "stream",
     "text": [
      "Zone 1870 skipped: [0]\n"
     ]
    },
    {
     "name": "stderr",
     "output_type": "stream",
     "text": [
      " 97%|█████████▋| 4314/4430 [01:52<00:02, 43.34it/s]"
     ]
    },
    {
     "name": "stdout",
     "output_type": "stream",
     "text": [
      "Zone 1198 skipped: [0]\n"
     ]
    },
    {
     "name": "stderr",
     "output_type": "stream",
     "text": [
      " 99%|█████████▉| 4394/4430 [01:54<00:00, 43.40it/s]"
     ]
    },
    {
     "name": "stdout",
     "output_type": "stream",
     "text": [
      "Zone 1233 skipped: [0]\n"
     ]
    },
    {
     "name": "stderr",
     "output_type": "stream",
     "text": [
      "100%|█████████▉| 4424/4430 [01:54<00:00, 43.93it/s]"
     ]
    },
    {
     "name": "stdout",
     "output_type": "stream",
     "text": [
      "Zone 1059 skipped: [0]\n",
      "Zone 1145 skipped: [0]\n"
     ]
    },
    {
     "name": "stderr",
     "output_type": "stream",
     "text": [
      "100%|██████████| 4430/4430 [01:55<00:00, 38.49it/s]\n"
     ]
    },
    {
     "name": "stdout",
     "output_type": "stream",
     "text": [
      "Crop intensity computation complete!\n"
     ]
    }
   ],
   "source": [
    "out_dir = os.path.join(PROJECT_DATA_DIR, 'OUTPUT', f'Landscape_Metrics_{DISTANCE}KM')\n",
    "os.makedirs(out_dir, exist_ok=True)\n",
    "\n",
    "# Path to crop mask\n",
    "crop_file_path = os.path.join(MAIN_DATA_DIR, 'DE_Crop_Types_2017_2021', 'wheat_mask_combined.tif')\n",
    "reprojected_raster_path = os.path.join(TEMP_DIR, f'wheat_mask_combined_{DISTANCE}.tif')\n",
    "\n",
    "# Target CRS (Coordinate Reference System)\n",
    "dst_crs = f'EPSG:{EPSG}'\n",
    "\n",
    "# Open source raster\n",
    "with rio.open(crop_file_path) as src:\n",
    "    transform, width, height = calculate_default_transform(\n",
    "        src.crs, dst_crs, src.width, src.height, *src.bounds)\n",
    "    \n",
    "    kwargs = src.meta.copy()\n",
    "    kwargs.update({\n",
    "        'crs': dst_crs,\n",
    "        'transform': transform,\n",
    "        'width': width,\n",
    "        'height': height\n",
    "    })\n",
    "\n",
    "    # Write reprojected raster\n",
    "    with rio.open(reprojected_raster_path, 'w', **kwargs) as dst:\n",
    "        for i in range(1, src.count + 1):\n",
    "            reproject(\n",
    "                source=rio.band(src, i),\n",
    "                destination=rio.band(dst, i),\n",
    "                src_transform=src.transform,\n",
    "                src_crs=src.crs,\n",
    "                dst_transform=transform,\n",
    "                dst_crs=dst_crs,\n",
    "                resampling=Resampling.nearest\n",
    "            )\n",
    "            \n",
    "print('Raster Saved Successfully!')\n",
    "\n",
    "# Collect valid zone indices\n",
    "valid_indices = []\n",
    "\n",
    "with rio.open(reprojected_raster_path) as src:\n",
    "    for idx, row in tqdm(grids_gdf.iterrows(), total=len(grids_gdf)):\n",
    "        try:\n",
    "            mask, transform = rio.mask.mask(src, [row['geometry']], crop=True)\n",
    "            unique_vals = np.unique(mask)\n",
    "            if len(unique_vals) <= 1:  # Only background or no-data\n",
    "                print(f\"Zone {row['id']} skipped: {unique_vals}\")\n",
    "                continue\n",
    "            valid_indices.append(idx)\n",
    "        except Exception as e:\n",
    "            print(f\"Zone {row['id']} caused error: {e}\")\n",
    "            continue\n",
    "\n",
    "# Filter the GeoDataFrame\n",
    "grids_gdf = grids_gdf.loc[valid_indices].copy()\n",
    "\n",
    "# Calculate zonal stats\n",
    "stats = zonal_stats(grids_gdf, reprojected_raster_path, stats=[\"mean\"])\n",
    "\n",
    "# Add results to GeoDataFrame\n",
    "zones_stats = grids_gdf.copy()\n",
    "for key in stats[0].keys():\n",
    "    zones_stats[key] = [s[key] for s in stats]\n",
    "\n",
    "zones_stats.rename(columns={\"mean\": 'crop_intensity'}, inplace=True)\n",
    "zones_stats['normalized_crop_intensity'] = zones_stats['crop_intensity'] / 5\n",
    "zones_stats = zones_stats[['id', 'geometry', 'crop_intensity', 'normalized_crop_intensity']]\n",
    "\n",
    "# Save the data\n",
    "zones_stats.to_csv(os.path.join(out_dir, f'crop_intensity.csv'), index=False)\n",
    "print('Crop intensity computation complete!')"
   ]
  }
 ],
 "metadata": {
  "kernelspec": {
   "display_name": "Python 3 (ipykernel)",
   "language": "python",
   "name": "python3"
  },
  "language_info": {
   "codemirror_mode": {
    "name": "ipython",
    "version": 3
   },
   "file_extension": ".py",
   "mimetype": "text/x-python",
   "name": "python",
   "nbconvert_exporter": "python",
   "pygments_lexer": "ipython3",
   "version": "3.12.0"
  }
 },
 "nbformat": 4,
 "nbformat_minor": 5
}
