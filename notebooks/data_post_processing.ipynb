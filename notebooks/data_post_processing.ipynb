{
 "cells": [
  {
   "cell_type": "markdown",
   "id": "c1404530-2356-4b5a-adda-6a10801be508",
   "metadata": {},
   "source": [
    "## **Import Dependencies**"
   ]
  },
  {
   "cell_type": "code",
   "execution_count": 14,
   "id": "c46d3f39-0ce5-47b6-ad8b-1c60cfc0dd72",
   "metadata": {},
   "outputs": [],
   "source": [
    "import numpy as np\n",
    "import pandas as pd\n",
    "import matplotlib.pyplot as plt\n",
    "import seaborn as sns\n",
    "import geopandas as gpd\n",
    "import os\n",
    "from glob import glob\n",
    "import pylandstats as pls\n",
    "import warnings\n",
    "import rasterio as rio\n",
    "import rasterio.mask\n",
    "from rasterio.warp import calculate_default_transform, reproject, Resampling\n",
    "from rasterio.crs import CRS\n",
    "import argparse\n",
    "from tqdm import tqdm\n",
    "\n",
    "# Suppress warnings to keep output clean\n",
    "warnings.filterwarnings('ignore')"
   ]
  },
  {
   "cell_type": "code",
   "execution_count": 15,
   "id": "ec808a51-752a-48f4-9ebb-00ff47fd279d",
   "metadata": {},
   "outputs": [
    {
     "name": "stdout",
     "output_type": "stream",
     "text": [
      "Total RAM: 187.59 GB\n",
      "Available RAM: 118.35 GB\n",
      "Used RAM: 67.83 GB\n",
      "RAM Usage: 36.9%\n"
     ]
    }
   ],
   "source": [
    "import psutil\n",
    "\n",
    "# Get virtual memory stats\n",
    "mem = psutil.virtual_memory()\n",
    "\n",
    "# Print in human-readable format\n",
    "print(f\"Total RAM: {mem.total / (1024 ** 3):.2f} GB\")\n",
    "print(f\"Available RAM: {mem.available / (1024 ** 3):.2f} GB\")\n",
    "print(f\"Used RAM: {mem.used / (1024 ** 3):.2f} GB\")\n",
    "print(f\"RAM Usage: {mem.percent}%\")"
   ]
  },
  {
   "cell_type": "markdown",
   "id": "8bf8bbd7-150c-44bb-b78c-da7b04522817",
   "metadata": {},
   "source": [
    "## Define File and Directory Paths"
   ]
  },
  {
   "cell_type": "code",
   "execution_count": 16,
   "id": "c7759b7e-dceb-4a0c-a441-31422eddef96",
   "metadata": {},
   "outputs": [],
   "source": [
    "# Main directory containing raw raster and vector datasets\n",
    "MAIN_DATA_DIR = r'/beegfs/halder/DATA'\n",
    "\n",
    "# GitHub-linked project directory where processed data and results are stored\n",
    "PROJECT_DATA_DIR = r'/beegfs/halder/GITHUB/Landscape-Analysis/data'\n",
    "\n",
    "# Temporary directory used for storing intermediate files\n",
    "TEMP_DIR = os.path.join(PROJECT_DATA_DIR, 'TEMP')"
   ]
  },
  {
   "cell_type": "markdown",
   "id": "2dd44715-fa05-485b-b4b3-b7f5c0c2cde2",
   "metadata": {},
   "source": [
    "## Extract the Crop Mask Combining 5 Years of Crop Type Data"
   ]
  },
  {
   "cell_type": "code",
   "execution_count": 18,
   "id": "d325c155-36cc-4b91-9c81-b6912e9587cb",
   "metadata": {},
   "outputs": [],
   "source": [
    "# # Read the crop file paths\n",
    "# crop_file_paths = [os.path.join(MAIN_DATA_DIR, 'DE_Crop_Types_2017_2021', f'DE_Crop_Type_{year}.tif') for year in range(2017, 2022)]\n",
    "\n",
    "# # Define the crop code\n",
    "# crop_code = {\n",
    "#     'wheat': 1110,\n",
    "#     'barley': 1120,\n",
    "#     'maize': 1130,\n",
    "#     'rapeseed': 1430,\n",
    "#     'sugarbeet': 1320\n",
    "# } \n",
    "\n",
    "# target_crs = CRS.from_epsg(25832)\n",
    "\n",
    "# # Use first file to define target transform, shape\n",
    "# with rio.open(crop_file_paths[0]) as src:\n",
    "#     transform, width, height = calculate_default_transform(\n",
    "#         src.crs, target_crs, src.width, src.height, *src.bounds\n",
    "#     )\n",
    "#     profile = src.profile\n",
    "#     profile.update({\n",
    "#         'crs': target_crs,\n",
    "#         'transform': transform,\n",
    "#         'width': width,\n",
    "#         'height': height,\n",
    "#         'dtype': 'uint8',\n",
    "#         'count': 1,\n",
    "#         'nodata': 0\n",
    "#     })\n",
    "\n",
    "# # Initialize combined masks\n",
    "# combined_masks = {\n",
    "#     crop: np.zeros((height, width), dtype=np.uint8) for crop in crop_code\n",
    "# }\n",
    "\n",
    "# # Loop through and reproject, then apply masks\n",
    "# for fp in tqdm(crop_file_paths):\n",
    "#     with rio.open(fp) as src:\n",
    "#         reprojected = np.zeros((height, width), dtype=src.dtypes[0])\n",
    "#         reproject(\n",
    "#             source=src.read(1),\n",
    "#             destination=reprojected,\n",
    "#             src_transform=src.transform,\n",
    "#             src_crs=src.crs,\n",
    "#             dst_transform=transform,\n",
    "#             dst_crs=target_crs,\n",
    "#             resampling=Resampling.nearest\n",
    "#         )\n",
    "\n",
    "#         for crop, code in crop_code.items():\n",
    "#             mask = (reprojected == code).astype(np.uint8)\n",
    "#             combined_masks[crop] += mask\n",
    "\n",
    "\n",
    "# # Create output directory\n",
    "# OUT_DIR = os.path.join(MAIN_DATA_DIR, 'DE_Crop_Types_2017_2021')\n",
    "# os.makedirs(OUT_DIR, exist_ok=True)\n",
    "\n",
    "# # Write each combined mask to disk\n",
    "# for crop, mask_array in combined_masks.items():\n",
    "#     out_path = os.path.join(OUT_DIR, f\"{crop}_mask_combined.tif\")\n",
    "#     with rio.open(out_path, 'w', **profile) as dst:\n",
    "#         dst.write(mask_array, 1)"
   ]
  }
 ],
 "metadata": {
  "kernelspec": {
   "display_name": "Python 3 (ipykernel)",
   "language": "python",
   "name": "python3"
  },
  "language_info": {
   "codemirror_mode": {
    "name": "ipython",
    "version": 3
   },
   "file_extension": ".py",
   "mimetype": "text/x-python",
   "name": "python",
   "nbconvert_exporter": "python",
   "pygments_lexer": "ipython3",
   "version": "3.12.0"
  }
 },
 "nbformat": 4,
 "nbformat_minor": 5
}
